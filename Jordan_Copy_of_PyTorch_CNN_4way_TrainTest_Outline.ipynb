{
  "cells": [
    {
      "cell_type": "markdown",
      "metadata": {
        "colab_type": "text",
        "id": "view-in-github"
      },
      "source": [
        "<a href=\"https://colab.research.google.com/github/ashley-ferreira/PHYS449_FinalProject/blob/main/Jordan_Copy_of_PyTorch_CNN_4way_TrainTest_Outline.ipynb\" target=\"_parent\"><img src=\"https://colab.research.google.com/assets/colab-badge.svg\" alt=\"Open In Colab\"/></a>"
      ]
    },
    {
      "cell_type": "markdown",
      "metadata": {
        "id": "oQfh4ENuykfl"
      },
      "source": [
        "# **PHYS 449: Final Project Notebook**\n",
        "#### Reproducing results from \"Morphological classification of galaxies with deep learning: comparing 3-way and 4-way CNNs\" by Mitchell K. Cavanagh, Kenji Bekki and Brent A. Groves\n",
        "\n",
        "*This all just assumed 4-way classification for now"
      ]
    },
    {
      "cell_type": "markdown",
      "metadata": {
        "id": "q-Ma_H5RnGtI"
      },
      "source": [
        "# **Set Current Working Directory**\n",
        "\n",
        "For example, for Ashley this is:\n",
        "\n",
        "'/content/drive/MyDrive/Fall 2022/PHYS 449/Final Project'"
      ]
    },
    {
      "cell_type": "code",
      "execution_count": 1,
      "metadata": {
        "id": "7JMBwDQ4nV8N"
      },
      "outputs": [],
      "source": [
        "#CWD = '/content/drive/MyDrive/Fall 2022/PHYS 449/Final Project/' #Ashley's current working directory\n",
        "CWD = '/content/drive/MyDrive/' #Jordan's current working directory"
      ]
    },
    {
      "cell_type": "code",
      "execution_count": 2,
      "metadata": {
        "colab": {
          "base_uri": "https://localhost:8080/"
        },
        "id": "Aa8SwGc2rpn1",
        "outputId": "e5ae79c1-8c80-4586-c180-b1d85b605921"
      },
      "outputs": [
        {
          "name": "stdout",
          "output_type": "stream",
          "text": [
            "Drive already mounted at /content/drive; to attempt to forcibly remount, call drive.mount(\"/content/drive\", force_remount=True).\n"
          ]
        }
      ],
      "source": [
        "from google.colab import drive\n",
        "drive.mount('/content/drive')"
      ]
    },
    {
      "cell_type": "markdown",
      "metadata": {
        "id": "FvlSR1N2ykL9"
      },
      "source": [
        "# **Import Packages**\n",
        "\n",
        "Begin by importing all the needed packages"
      ]
    },
    {
      "cell_type": "code",
      "execution_count": 3,
      "metadata": {
        "id": "orwxGi_hFK2v"
      },
      "outputs": [],
      "source": [
        "# if you've never used w&b before you need to run these commands, if this gives you issues just comment out w&b stuff for now\n",
        "#! pip install wandb\n",
        "#import wandb\n",
        "#wandb.login()"
      ]
    },
    {
      "cell_type": "code",
      "execution_count": 4,
      "metadata": {
        "id": "FnQlrR-O-Jmh"
      },
      "outputs": [],
      "source": [
        "from keras.preprocessing import image\n",
        "import numpy as np\n",
        "import pandas as pd\n",
        "import matplotlib.pyplot as plt\n",
        "import matplotlib.image as mpimg\n",
        "from sklearn.model_selection import train_test_split\n",
        "from tqdm import tqdm\n",
        "from keras.models import Sequential\n",
        "from keras.layers import Dense, BatchNormalization, Flatten, Conv2D, MaxPool2D\n",
        "from keras.layers.core import Dropout\n",
        "import os"
      ]
    },
    {
      "cell_type": "code",
      "execution_count": 5,
      "metadata": {
        "id": "K4vEKvAuJDPC"
      },
      "outputs": [],
      "source": [
        "import torch\n",
        "from torch import nn\n",
        "import torch.nn.functional as F\n",
        "from torchvision import transforms as T\n",
        "from torch.utils.data import Dataset, DataLoader\n",
        "import re\n",
        "\n",
        "#DEVICE = torch.device('cuda:0' if torch.cuda.is_available() else \"cpu\")\n",
        "\n",
        "# connect to w&b for experiment tracking\n",
        "#wandb.init(project=\"CNN-4way-C1-subset\", entity=\"449-final project\")"
      ]
    },
    {
      "cell_type": "markdown",
      "metadata": {
        "id": "Va-_oVtsykW4"
      },
      "source": [
        "# **Define Network Structure**\n",
        "We are considering two 2D CNNs, C1 and C2, which are described in the paper and outlined below\n",
        "- forgot to add batch norm first time"
      ]
    },
    {
      "cell_type": "code",
      "execution_count": 6,
      "metadata": {
        "id": "TtWL4NQip11I"
      },
      "outputs": [],
      "source": [
        "num_classes = 4"
      ]
    },
    {
      "cell_type": "code",
      "execution_count": 7,
      "metadata": {
        "id": "ZOk2Z6iXJF1y"
      },
      "outputs": [],
      "source": [
        "# need to double check but this is roughly right\n",
        "networkc1 = nn.Sequential(\n",
        "    nn.Conv2d(in_channels=1, out_channels=32, kernel_size=5, stride=1, padding=0),\n",
        "    nn.ReLU(),\n",
        "    nn.BatchNorm2d(32),\n",
        "    nn.Conv2d(in_channels=32, out_channels=64, kernel_size=5, stride=1, padding=0),\n",
        "    nn.ReLU(),\n",
        "    nn.BatchNorm2d(64),\n",
        "    # max pool here\n",
        "    nn.MaxPool2d(kernel_size=2),\n",
        "    nn.Flatten(),\n",
        "    #nn.Linear(135424, 256), \n",
        "    # dropout here\n",
        "    nn.Dropout(0.5),\n",
        "    nn.ReLU(), # do we need an activation function here?\n",
        "    nn.Linear(135424,256),\n",
        "    nn.ReLU(),\n",
        "    nn.Linear(256, num_classes))"
      ]
    },
    {
      "cell_type": "code",
      "execution_count": 8,
      "metadata": {
        "id": "JetZ8Dimne4H"
      },
      "outputs": [],
      "source": [
        "networkc2 = nn.Sequential(\n",
        "    nn.Conv2d(in_channels=1, out_channels=32, kernel_size=7, stride=1, padding=0),\n",
        "    nn.ReLU(),\n",
        "    nn.BatchNorm2d(32),\n",
        "    nn.MaxPool2d(kernel_size=2),\n",
        "\n",
        "    nn.Conv2d(in_channels=32, out_channels=64, kernel_size=5, stride=1, padding=0),\n",
        "    nn.ReLU(),\n",
        "    nn.BatchNorm2d(64),\n",
        "\n",
        "    nn.Conv2d(in_channels=64, out_channels=64, kernel_size=5, stride=1, padding=0),\n",
        "    nn.ReLU(),\n",
        "    nn.BatchNorm2d(64),\n",
        "    nn.MaxPool2d(kernel_size=2),\n",
        "\n",
        "    nn.Conv2d(in_channels=64, out_channels=128, kernel_size=3, stride=1, padding=0),\n",
        "    nn.ReLU(),\n",
        "    nn.BatchNorm2d(128),\n",
        "    nn.MaxPool2d(kernel_size=2),\n",
        "\n",
        "    nn.Flatten(),\n",
        "    nn.Linear(8192, 256),\n",
        "    nn.Dropout(0.5),\n",
        "\n",
        "    nn.ReLU(),\n",
        "    nn.Linear(256,256),\n",
        "    nn.ReLU(),\n",
        "    nn.Linear(256, num_classes))#Modify last few lines to match Yusuf's Keras model:\n",
        "    #nn.Linear(256, 4))#,\n",
        "    #nn.Softmax(dim=4))"
      ]
    },
    {
      "cell_type": "markdown",
      "metadata": {
        "id": "04iju2Sqm-2W"
      },
      "source": [
        "https://stackoverflow.com/questions/66626700/difference-between-tensorflows-tf-keras-layers-dense-and-pytorchs-torch-nn-lin#:~:text=Within%20PyTorch%2C%20a%20Linear%20(or,Linear%20layer%20(see%20here)."
      ]
    },
    {
      "cell_type": "markdown",
      "metadata": {
        "id": "PyB4yRaICITu"
      },
      "source": [
        "# **Load Data**"
      ]
    },
    {
      "cell_type": "code",
      "execution_count": 9,
      "metadata": {
        "colab": {
          "base_uri": "https://localhost:8080/"
        },
        "id": "RjvEFjidIlKu",
        "outputId": "258bc72f-b898-4382-9dba-931107879e68"
      },
      "outputs": [
        {
          "name": "stdout",
          "output_type": "stream",
          "text": [
            "Drive already mounted at /content/drive; to attempt to forcibly remount, call drive.mount(\"/content/drive\", force_remount=True).\n"
          ]
        }
      ],
      "source": [
        "#Import google drive (need to put data folder as shortcut in your local drive My Drive):\n",
        "from google.colab import drive\n",
        "drive.mount('/content/drive')\n"
      ]
    },
    {
      "cell_type": "code",
      "execution_count": 10,
      "metadata": {
        "id": "ZmT2udOl-dlB"
      },
      "outputs": [],
      "source": [
        "#LOAD THE DATA FROM TXT FILE INTO A BATCH:\n",
        "def data_batch(datafile_index, num_images=10, data_file=CWD+'/data/data_g_band.txt', plotting=False):\n",
        "    '''\n",
        "    Description:\n",
        "        Access datafile.txt, each row is flattened 110x110 image + 1 label string (E, Sp, S0, Irr+Misc).\n",
        "        Returns an augmented batch of num_images X 40.\n",
        "        The labels are converted to 1D vectors (ex: Sp = [0,0,1,0])\n",
        "        Need to give a datafile_index that tells which rows to pick.\n",
        "    Inputs:\n",
        "        datafile_index: index of row in datafile to load. loads rows datafile_index to datafile_index+num_images.\n",
        "        num_images: number of different images to load per batch, total batch size \n",
        "        is 40 X num_images. (default: 10 (for 40X10 = 400 batch size like in paper)\n",
        "        data_file: datafile full path, need to add shortcut to local Drive. (default: '/content/drive/MyDrive/data/data_g_band.txt')\n",
        "    Outputs:\n",
        "        tensor_input_batch_aug: dimensions: (100, 100, num_images X 40). \n",
        "        tensor_label_batch_aug: dimensions: (num_images X 40, 4)\n",
        "    '''\n",
        "\n",
        "    #Take batch of num_images rows from datafile:\n",
        "    with open(data_file, 'r') as f:\n",
        "        rows = f.readlines()[datafile_index:(datafile_index+num_images)]\n",
        "\n",
        "    #for batch size of 400 (augmented), need 10 images\n",
        "    data_batch = np.zeros((num_images,12101), dtype=np.dtype('U10'))\n",
        "    count = 0\n",
        "    for row in rows:\n",
        "        data_batch[count,:] = row.split()\n",
        "        count += 1\n",
        "\n",
        "    #separate label and input:\n",
        "    input_batch_flat = np.array(data_batch[:,:12100], dtype=float)#, dtype=int)\n",
        "    label_batch = np.array(data_batch[:,-1])\n",
        "\n",
        "    #convert input batch back to a 2D array:\n",
        "    input_batch = np.zeros((110,110,np.shape(input_batch_flat)[0]))#, dtype=int)\n",
        "    for ii in range(np.shape(input_batch_flat)[0]):\n",
        "        input_batch[:,:,ii] = np.reshape(input_batch_flat[ii,:], (110,110))\n",
        "\n",
        "\n",
        "    #convert label batch into into 1D vector: \n",
        "    #E=0, S0=1, Sp=2, Irr+Misc=3\n",
        "    #ex: label = [0,0,1,0] ==> Sp galagy\n",
        "    arr_label_batch = np.zeros((np.shape(label_batch)[0],4), dtype=int)\n",
        "    arr_label_batch[:,0] = np.array([label_batch == 'E'], dtype=int)\n",
        "    arr_label_batch[:,1] = np.array([label_batch == 'Sp'], dtype=int)\n",
        "    arr_label_batch[:,2] = np.array([label_batch == 'S0'], dtype=int)\n",
        "    arr_label_batch[:,3] = np.array([label_batch == 'Irr+Misc'], dtype=int)\n",
        "\n",
        "    if plotting == True:\n",
        "      #test with image plotted\n",
        "      plt.imshow(input_batch[:,:,0])\n",
        "      plt.show()\n",
        "\n",
        "    #NOW AUGMENT THE BATCH (40X more):\n",
        "    input_batch_aug = np.empty((100,100,np.shape(input_batch)[2]*40), dtype=int)\n",
        "    arr_label_batch_aug = np.empty((np.shape(arr_label_batch)[0]*40, 4), dtype=int)\n",
        "\n",
        "    count = 0\n",
        "    for ll in range(np.shape(input_batch)[2]):\n",
        "        #Crop 5X more image (100X100 pixels)\n",
        "        C1 = input_batch[:100,:100,ll]\n",
        "        C2 = input_batch[10:,:100,ll]\n",
        "        C3 = input_batch[:100,10:,ll]\n",
        "        C4 = input_batch[10:,10:,ll]\n",
        "        C5 = input_batch[5:105,5:105,ll]\n",
        "\n",
        "        C = [C1, C2, C3, C4, C5]\n",
        "\n",
        "        for kk in range(5):\n",
        "            #Rotate 4X more image (by 90 deg)\n",
        "            for jj in range(4):\n",
        "                C_R = np.rot90(C[kk], k=jj)\n",
        "                input_batch_aug[:,:,count] = C_R\n",
        "                arr_label_batch_aug[count,:] = arr_label_batch[ll,:]\n",
        "                count += 1\n",
        "                \n",
        "                input_batch_aug[:,:,count] = np.swapaxes(C_R,0,1)\n",
        "                arr_label_batch_aug[count,:] = arr_label_batch[ll,:]\n",
        "                count += 1\n",
        "\n",
        "\n",
        "    #PUT THE DATA AS A PYTORCH TENSOR:\n",
        "    tensor_input_batch_aug = torch.Tensor(input_batch_aug)\n",
        "    tensor_label_batch_aug = torch.Tensor(arr_label_batch_aug)\n",
        "    \n",
        "    return tensor_input_batch_aug, tensor_label_batch_aug\n"
      ]
    },
    {
      "cell_type": "code",
      "execution_count": 11,
      "metadata": {
        "colab": {
          "base_uri": "https://localhost:8080/",
          "height": 70
        },
        "id": "ktUQRMpu-RBS",
        "outputId": "3b7ce3e9-d14c-4c80-cfd4-735d02a62f02"
      },
      "outputs": [
        {
          "data": {
            "application/vnd.google.colaboratory.intrinsic+json": {
              "type": "string"
            },
            "text/plain": [
              "'\\nrand_index = np.random.permutation(280)\\n\\nprint(np.shape(rand_index)[0])\\n\\n#Use this loop for training over entire dataset at each epochs\\nfor ii in range(np.shape(rand_index)[0]):\\n  image_batch, label_batch = data_batch(datafile_index=50*rand_index[ii], num_images=50)\\n  #print(np.shape(image_batch), np.shape(label_batch))\\n  #print(ii)\\n'"
            ]
          },
          "execution_count": 11,
          "metadata": {},
          "output_type": "execute_result"
        }
      ],
      "source": [
        "# ashley's troubleshooting\n",
        "'''\n",
        "rand_index = np.random.permutation(280)\n",
        "\n",
        "print(np.shape(rand_index)[0])\n",
        "\n",
        "#Use this loop for training over entire dataset at each epochs\n",
        "for ii in range(np.shape(rand_index)[0]):\n",
        "  image_batch, label_batch = data_batch(datafile_index=50*rand_index[ii], num_images=50)\n",
        "  #print(np.shape(image_batch), np.shape(label_batch))\n",
        "  #print(ii)\n",
        "'''"
      ]
    },
    {
      "cell_type": "markdown",
      "metadata": {
        "id": "P6yVoN5dCUtN"
      },
      "source": [
        "# **Sample Data**\n",
        "Here we check that the data files are how we expect them to be"
      ]
    },
    {
      "cell_type": "code",
      "execution_count": 12,
      "metadata": {
        "id": "n2yn5gPM-0_w"
      },
      "outputs": [],
      "source": [
        "# can just call data load for some if we made plotting an optional arg\n",
        "#rand_index = np.random.permutation(10)\n",
        "#print(np.shape(rand_index)[0])\n",
        "#for ii in range(np.shape(rand_index)[0]):\n",
        "#  image_batch, label_batch = data_batch(datafile_index=50*rand_index[ii], num_images=50, plotting = True)"
      ]
    },
    {
      "cell_type": "markdown",
      "metadata": {
        "id": "m9eaQI4kCbVT"
      },
      "source": [
        "# **Split Data**\n",
        "Here we split data into trainng, testing datasets (validation split will be done by keras during training)"
      ]
    },
    {
      "cell_type": "markdown",
      "metadata": {
        "id": "Un1x2W4GAMex"
      },
      "source": [
        "# **Training**\n",
        "Ideally we use seperate notebooks to train each one\n",
        "\n",
        "C2 uses Adam, wheras C1 uses Adadelta: \n",
        "\n",
        "  https://www.aanda.org/articles/aa/full_html/2020/09/aa37963-20/aa37963-20.html\n"
      ]
    },
    {
      "cell_type": "code",
      "execution_count": 13,
      "metadata": {
        "id": "5cu8-Z52PSNH"
      },
      "outputs": [],
      "source": [
        "network_to_train = 'C2'\n",
        "\n",
        "# define hyperparameters of training\n",
        "if network_to_train == 'C1':\n",
        "  n_epochs = 12\n",
        "  # can't find learning rate mentioned so I'm leaving it as default for now\n",
        "  cn_model = networkc1\n",
        "  #optimizer = torch.optim.Adadelta(cn_model.parameters()))\n",
        "  # trying adam for a sec\n",
        "  optimizer = torch.optim.Adam(cn_model.parameters(), lr=2e-4)\n",
        "\n",
        "elif network_to_train == 'C2':\n",
        "  n_epochs = 20\n",
        "  cn_model = networkc2\n",
        "  lr = 2*pow(10,-4)\n",
        "  optimizer = torch.optim.Adam(cn_model.parameters(), lr=lr)"
      ]
    },
    {
      "cell_type": "code",
      "execution_count": 14,
      "metadata": {
        "id": "OBjUVf7Xl0t9"
      },
      "outputs": [],
      "source": [
        "# define things that are the same for both notebooks\n",
        "class_weight = torch.Tensor(np.array([2723, 7708, 3215, 388], dtype=np.float32)/14034).detach().to('cuda')\n",
        "loss_fn = torch.nn.CrossEntropyLoss(weight = class_weight)\n",
        "#loss_fn = torch.nn.CrossEntropyLoss()"
      ]
    },
    {
      "cell_type": "code",
      "execution_count": 15,
      "metadata": {
        "id": "pmXbguJZy2TP"
      },
      "outputs": [],
      "source": [
        "# add some code here to reset weights if we run this a lot"
      ]
    },
    {
      "cell_type": "code",
      "execution_count": 16,
      "metadata": {
        "colab": {
          "base_uri": "https://localhost:8080/"
        },
        "id": "F_HE_24Jl4MV",
        "outputId": "94c1df3e-a5d1-40af-c6aa-52c504a5ee40"
      },
      "outputs": [
        {
          "data": {
            "text/plain": [
              "Sequential(\n",
              "  (0): Conv2d(1, 32, kernel_size=(7, 7), stride=(1, 1))\n",
              "  (1): ReLU()\n",
              "  (2): BatchNorm2d(32, eps=1e-05, momentum=0.1, affine=True, track_running_stats=True)\n",
              "  (3): MaxPool2d(kernel_size=2, stride=2, padding=0, dilation=1, ceil_mode=False)\n",
              "  (4): Conv2d(32, 64, kernel_size=(5, 5), stride=(1, 1))\n",
              "  (5): ReLU()\n",
              "  (6): BatchNorm2d(64, eps=1e-05, momentum=0.1, affine=True, track_running_stats=True)\n",
              "  (7): Conv2d(64, 64, kernel_size=(5, 5), stride=(1, 1))\n",
              "  (8): ReLU()\n",
              "  (9): BatchNorm2d(64, eps=1e-05, momentum=0.1, affine=True, track_running_stats=True)\n",
              "  (10): MaxPool2d(kernel_size=2, stride=2, padding=0, dilation=1, ceil_mode=False)\n",
              "  (11): Conv2d(64, 128, kernel_size=(3, 3), stride=(1, 1))\n",
              "  (12): ReLU()\n",
              "  (13): BatchNorm2d(128, eps=1e-05, momentum=0.1, affine=True, track_running_stats=True)\n",
              "  (14): MaxPool2d(kernel_size=2, stride=2, padding=0, dilation=1, ceil_mode=False)\n",
              "  (15): Flatten(start_dim=1, end_dim=-1)\n",
              "  (16): Linear(in_features=8192, out_features=256, bias=True)\n",
              "  (17): Dropout(p=0.5, inplace=False)\n",
              "  (18): ReLU()\n",
              "  (19): Linear(in_features=256, out_features=256, bias=True)\n",
              "  (20): ReLU()\n",
              "  (21): Linear(in_features=256, out_features=4, bias=True)\n",
              ")"
            ]
          },
          "execution_count": 16,
          "metadata": {},
          "output_type": "execute_result"
        }
      ],
      "source": [
        "# Initialize network & move to GPU\n",
        "#cn_model.to(DEVICE)  # comment out if this gives you issues\n",
        "cn_model.to('cuda')"
      ]
    },
    {
      "cell_type": "code",
      "execution_count": 17,
      "metadata": {
        "id": "qj1M9LgXI5_R"
      },
      "outputs": [],
      "source": [
        "#Train and test set\n",
        "dataset_size = 20#93#1403 # WHENEVER YOU SEE THIS LESS THAN 1403 IT'S ARTIFIFICALLY SMALL JUST TO TROUBLESHOOT CODE AND SHOULD NOT BE USED TO TRAIN\n",
        "train_split = 0.7\n",
        "test_split = 1 - train_split\n",
        "split_cutoff = int(dataset_size*train_split)\n",
        "\n",
        "rand_index = np.random.permutation(dataset_size)\n",
        "rand_train = rand_index[:split_cutoff] # get these split like paper proportions\n",
        "rand_test = rand_index[split_cutoff:dataset_size] # valudation will be taken from test set"
      ]
    },
    {
      "cell_type": "code",
      "execution_count": 18,
      "metadata": {
        "colab": {
          "base_uri": "https://localhost:8080/"
        },
        "id": "12RTbYBaK-wj",
        "outputId": "f5e23bc1-7893-4be7-ad7d-fff1057aa0f4"
      },
      "outputs": [
        {
          "name": "stdout",
          "output_type": "stream",
          "text": [
            "Model initialized and prepped, begin training...\n",
            "epoch: 1\n"
          ]
        },
        {
          "name": "stderr",
          "output_type": "stream",
          "text": [
            "<ipython-input-18-981f44592df6>:26: UserWarning: The use of `x.T` on tensors of dimension other than 2 to reverse their shape is deprecated and it will throw an error in a future release. Consider `x.mT` to transpose batches of matricesor `x.permute(*torch.arange(x.ndim - 1, -1, -1))` to reverse the dimensions of a tensor. (Triggered internally at  ../aten/src/ATen/native/TensorShape.cpp:2981.)\n",
            "  im_valid = im_valid.T\n"
          ]
        },
        {
          "name": "stdout",
          "output_type": "stream",
          "text": [
            "\t\t test batch accuracy = 22.55 %, batch # 0\n",
            "\t\t test batch accuracy = 26.93 %, batch # 1\n",
            "\t\t test batch accuracy = 21.1 %, batch # 2\n",
            "\t\t test batch accuracy = 23.52 %, batch # 3\n",
            "\t\t test batch accuracy = 20.85 %, batch # 4\n",
            "\t\t test batch accuracy = 23.28 %, batch # 5\n",
            "validation loss: 0.57\n",
            "Validation accuracy: 23.04 %\n",
            "\t\t train batch accuracy = 23.03 %, batch # 0\n",
            "\t\t train batch accuracy = 54.0 %, batch # 1\n",
            "\t\t train batch accuracy = 66.0 %, batch # 2\n",
            "\t\t train batch accuracy = 60.0 %, batch # 3\n",
            "\t\t train batch accuracy = 58.0 %, batch # 4\n",
            "\t\t train batch accuracy = 54.0 %, batch # 5\n",
            "\t\t train batch accuracy = 55.33 %, batch # 6\n",
            "\t\t train batch accuracy = 50.67 %, batch # 7\n",
            "\t\t train batch accuracy = 42.0 %, batch # 8\n",
            "\t\t train batch accuracy = 56.0 %, batch # 9\n",
            "\t\t train batch accuracy = 52.0 %, batch # 10\n",
            "\t\t train batch accuracy = 46.67 %, batch # 11\n",
            "\t\t train batch accuracy = 50.0 %, batch # 12\n",
            "\t\t train batch accuracy = 56.0 %, batch # 13\n",
            "training loss: 0.35\n",
            "training accuracy: 51.69 %\n",
            "\t\t test batch accuracy = 54.0 %, batch # 0\n",
            "\t\t test batch accuracy = 50.0 %, batch # 1\n",
            "\t\t test batch accuracy = 58.67 %, batch # 2\n",
            "\t\t test batch accuracy = 52.67 %, batch # 3\n",
            "\t\t test batch accuracy = 61.33 %, batch # 4\n",
            "\t\t test batch accuracy = 49.33 %, batch # 5\n",
            "validation loss: 0.39\n",
            "Validation accuracy: 54.33 %\n",
            "epoch: 2\n",
            "\t\t train batch accuracy = 57.32 %, batch # 0\n",
            "\t\t train batch accuracy = 54.0 %, batch # 1\n",
            "\t\t train batch accuracy = 65.93 %, batch # 2\n",
            "\t\t train batch accuracy = 59.82 %, batch # 3\n",
            "\t\t train batch accuracy = 57.6 %, batch # 4\n",
            "\t\t train batch accuracy = 53.38 %, batch # 5\n",
            "\t\t train batch accuracy = 54.07 %, batch # 6\n",
            "\t\t train batch accuracy = 49.0 %, batch # 7\n",
            "\t\t train batch accuracy = 40.67 %, batch # 8\n",
            "\t\t train batch accuracy = 53.03 %, batch # 9\n",
            "\t\t train batch accuracy = 47.53 %, batch # 10\n",
            "\t\t train batch accuracy = 43.8 %, batch # 11\n",
            "\t\t train batch accuracy = 47.83 %, batch # 12\n",
            "\t\t train batch accuracy = 51.37 %, batch # 13\n",
            "training loss: 0.32\n",
            "training accuracy: 52.52 %\n",
            "\t\t test batch accuracy = 54.0 %, batch # 0\n",
            "\t\t test batch accuracy = 50.0 %, batch # 1\n",
            "\t\t test batch accuracy = 58.67 %, batch # 2\n",
            "\t\t test batch accuracy = 52.67 %, batch # 3\n",
            "\t\t test batch accuracy = 61.33 %, batch # 4\n",
            "\t\t test batch accuracy = 49.33 %, batch # 5\n",
            "validation loss: 0.34\n",
            "Validation accuracy: 54.33 %\n",
            "epoch: 3\n",
            "\t\t train batch accuracy = 54.18 %, batch # 0\n",
            "\t\t train batch accuracy = 52.87 %, batch # 1\n",
            "\t\t train batch accuracy = 65.62 %, batch # 2\n",
            "\t\t train batch accuracy = 59.8 %, batch # 3\n",
            "\t\t train batch accuracy = 57.95 %, batch # 4\n",
            "\t\t train batch accuracy = 53.98 %, batch # 5\n",
            "\t\t train batch accuracy = 55.33 %, batch # 6\n",
            "\t\t train batch accuracy = 50.67 %, batch # 7\n",
            "\t\t train batch accuracy = 42.0 %, batch # 8\n",
            "\t\t train batch accuracy = 56.0 %, batch # 9\n",
            "\t\t train batch accuracy = 52.0 %, batch # 10\n",
            "\t\t train batch accuracy = 46.67 %, batch # 11\n",
            "\t\t train batch accuracy = 50.0 %, batch # 12\n",
            "\t\t train batch accuracy = 56.0 %, batch # 13\n",
            "training loss: 0.38\n",
            "training accuracy: 53.79 %\n",
            "\t\t test batch accuracy = 54.0 %, batch # 0\n",
            "\t\t test batch accuracy = 50.0 %, batch # 1\n",
            "\t\t test batch accuracy = 58.67 %, batch # 2\n",
            "\t\t test batch accuracy = 52.67 %, batch # 3\n",
            "\t\t test batch accuracy = 61.33 %, batch # 4\n",
            "\t\t test batch accuracy = 49.33 %, batch # 5\n",
            "validation loss: 0.63\n",
            "Validation accuracy: 54.33 %\n",
            "epoch: 4\n",
            "\t\t train batch accuracy = 57.33 %, batch # 0\n",
            "\t\t train batch accuracy = 53.98 %, batch # 1\n",
            "\t\t train batch accuracy = 65.95 %, batch # 2\n",
            "\t\t train batch accuracy = 59.73 %, batch # 3\n",
            "\t\t train batch accuracy = 58.07 %, batch # 4\n",
            "\t\t train batch accuracy = 52.6 %, batch # 5\n",
            "\t\t train batch accuracy = 53.5 %, batch # 6\n",
            "\t\t train batch accuracy = 48.13 %, batch # 7\n",
            "\t\t train batch accuracy = 42.27 %, batch # 8\n",
            "\t\t train batch accuracy = 44.95 %, batch # 9\n",
            "\t\t train batch accuracy = 39.58 %, batch # 10\n",
            "\t\t train batch accuracy = 38.25 %, batch # 11\n",
            "\t\t train batch accuracy = 39.0 %, batch # 12\n",
            "\t\t train batch accuracy = 35.83 %, batch # 13\n",
            "training loss: 0.36\n",
            "training accuracy: 49.23 %\n",
            "\t\t test batch accuracy = 25.62 %, batch # 0\n",
            "\t\t test batch accuracy = 23.95 %, batch # 1\n",
            "\t\t test batch accuracy = 19.5 %, batch # 2\n",
            "\t\t test batch accuracy = 22.17 %, batch # 3\n",
            "\t\t test batch accuracy = 20.68 %, batch # 4\n",
            "\t\t test batch accuracy = 28.45 %, batch # 5\n",
            "validation loss: 0.54\n",
            "Validation accuracy: 23.39 %\n",
            "epoch: 5\n",
            "\t\t train batch accuracy = 37.4 %, batch # 0\n",
            "\t\t train batch accuracy = 39.27 %, batch # 1\n",
            "\t\t train batch accuracy = 45.03 %, batch # 2\n",
            "\t\t train batch accuracy = 48.08 %, batch # 3\n",
            "\t\t train batch accuracy = 50.12 %, batch # 4\n",
            "\t\t train batch accuracy = 51.47 %, batch # 5\n",
            "\t\t train batch accuracy = 53.23 %, batch # 6\n",
            "\t\t train batch accuracy = 50.07 %, batch # 7\n",
            "\t\t train batch accuracy = 41.33 %, batch # 8\n",
            "\t\t train batch accuracy = 55.52 %, batch # 9\n",
            "\t\t train batch accuracy = 51.75 %, batch # 10\n",
            "\t\t train batch accuracy = 46.63 %, batch # 11\n",
            "\t\t train batch accuracy = 49.92 %, batch # 12\n",
            "\t\t train batch accuracy = 56.05 %, batch # 13\n",
            "training loss: 0.39\n",
            "training accuracy: 48.28 %\n",
            "\t\t test batch accuracy = 53.4 %, batch # 0\n",
            "\t\t test batch accuracy = 48.45 %, batch # 1\n",
            "\t\t test batch accuracy = 57.2 %, batch # 2\n",
            "\t\t test batch accuracy = 54.27 %, batch # 3\n",
            "\t\t test batch accuracy = 59.35 %, batch # 4\n",
            "\t\t test batch accuracy = 48.83 %, batch # 5\n",
            "validation loss: 0.45\n",
            "Validation accuracy: 53.58 %\n",
            "epoch: 6\n",
            "\t\t train batch accuracy = 57.32 %, batch # 0\n",
            "\t\t train batch accuracy = 54.0 %, batch # 1\n",
            "\t\t train batch accuracy = 65.98 %, batch # 2\n",
            "\t\t train batch accuracy = 60.0 %, batch # 3\n",
            "\t\t train batch accuracy = 58.0 %, batch # 4\n",
            "\t\t train batch accuracy = 54.0 %, batch # 5\n",
            "\t\t train batch accuracy = 55.35 %, batch # 6\n",
            "\t\t train batch accuracy = 50.68 %, batch # 7\n",
            "\t\t train batch accuracy = 42.0 %, batch # 8\n",
            "\t\t train batch accuracy = 56.08 %, batch # 9\n",
            "\t\t train batch accuracy = 51.98 %, batch # 10\n",
            "\t\t train batch accuracy = 46.68 %, batch # 11\n",
            "\t\t train batch accuracy = 49.98 %, batch # 12\n",
            "\t\t train batch accuracy = 55.85 %, batch # 13\n",
            "training loss: 0.43\n",
            "training accuracy: 54.14 %\n",
            "\t\t test batch accuracy = 54.0 %, batch # 0\n",
            "\t\t test batch accuracy = 50.0 %, batch # 1\n",
            "\t\t test batch accuracy = 58.67 %, batch # 2\n",
            "\t\t test batch accuracy = 52.67 %, batch # 3\n",
            "\t\t test batch accuracy = 61.27 %, batch # 4\n",
            "\t\t test batch accuracy = 49.33 %, batch # 5\n",
            "validation loss: 0.39\n",
            "Validation accuracy: 54.32 %\n",
            "epoch: 7\n",
            "\t\t train batch accuracy = 57.2 %, batch # 0\n",
            "\t\t train batch accuracy = 53.6 %, batch # 1\n",
            "\t\t train batch accuracy = 64.58 %, batch # 2\n",
            "\t\t train batch accuracy = 58.33 %, batch # 3\n",
            "\t\t train batch accuracy = 54.7 %, batch # 4\n",
            "\t\t train batch accuracy = 49.18 %, batch # 5\n",
            "\t\t train batch accuracy = 50.63 %, batch # 6\n",
            "\t\t train batch accuracy = 44.93 %, batch # 7\n",
            "\t\t train batch accuracy = 40.23 %, batch # 8\n",
            "\t\t train batch accuracy = 45.48 %, batch # 9\n",
            "\t\t train batch accuracy = 43.17 %, batch # 10\n",
            "\t\t train batch accuracy = 40.88 %, batch # 11\n",
            "\t\t train batch accuracy = 41.67 %, batch # 12\n",
            "\t\t train batch accuracy = 44.9 %, batch # 13\n",
            "training loss: 0.35\n",
            "training accuracy: 49.25 %\n",
            "\t\t test batch accuracy = 51.22 %, batch # 0\n",
            "\t\t test batch accuracy = 47.53 %, batch # 1\n",
            "\t\t test batch accuracy = 49.95 %, batch # 2\n",
            "\t\t test batch accuracy = 50.48 %, batch # 3\n",
            "\t\t test batch accuracy = 56.02 %, batch # 4\n",
            "\t\t test batch accuracy = 45.27 %, batch # 5\n",
            "validation loss: 0.37\n",
            "Validation accuracy: 50.08 %\n",
            "epoch: 8\n",
            "\t\t train batch accuracy = 39.8 %, batch # 0\n",
            "\t\t train batch accuracy = 43.32 %, batch # 1\n",
            "\t\t train batch accuracy = 51.95 %, batch # 2\n",
            "\t\t train batch accuracy = 49.17 %, batch # 3\n",
            "\t\t train batch accuracy = 51.67 %, batch # 4\n",
            "\t\t train batch accuracy = 46.25 %, batch # 5\n",
            "\t\t train batch accuracy = 49.57 %, batch # 6\n",
            "\t\t train batch accuracy = 46.75 %, batch # 7\n",
            "\t\t train batch accuracy = 41.63 %, batch # 8\n",
            "\t\t train batch accuracy = 53.35 %, batch # 9\n",
            "\t\t train batch accuracy = 51.15 %, batch # 10\n",
            "\t\t train batch accuracy = 46.27 %, batch # 11\n",
            "\t\t train batch accuracy = 49.73 %, batch # 12\n",
            "\t\t train batch accuracy = 55.63 %, batch # 13\n",
            "training loss: 0.37\n",
            "training accuracy: 48.3 %\n",
            "\t\t test batch accuracy = 53.93 %, batch # 0\n",
            "\t\t test batch accuracy = 50.03 %, batch # 1\n",
            "\t\t test batch accuracy = 58.65 %, batch # 2\n",
            "\t\t test batch accuracy = 52.65 %, batch # 3\n",
            "\t\t test batch accuracy = 61.27 %, batch # 4\n",
            "\t\t test batch accuracy = 49.33 %, batch # 5\n",
            "validation loss: 0.37\n",
            "Validation accuracy: 54.31 %\n",
            "epoch: 9\n",
            "\t\t train batch accuracy = 57.08 %, batch # 0\n",
            "\t\t train batch accuracy = 53.75 %, batch # 1\n",
            "\t\t train batch accuracy = 65.85 %, batch # 2\n",
            "\t\t train batch accuracy = 59.9 %, batch # 3\n",
            "\t\t train batch accuracy = 58.02 %, batch # 4\n",
            "\t\t train batch accuracy = 53.87 %, batch # 5\n",
            "\t\t train batch accuracy = 55.27 %, batch # 6\n",
            "\t\t train batch accuracy = 50.63 %, batch # 7\n",
            "\t\t train batch accuracy = 42.02 %, batch # 8\n",
            "\t\t train batch accuracy = 55.98 %, batch # 9\n",
            "\t\t train batch accuracy = 51.97 %, batch # 10\n",
            "\t\t train batch accuracy = 46.68 %, batch # 11\n",
            "\t\t train batch accuracy = 49.97 %, batch # 12\n",
            "\t\t train batch accuracy = 55.93 %, batch # 13\n",
            "training loss: 0.35\n",
            "training accuracy: 54.07 %\n",
            "\t\t test batch accuracy = 54.0 %, batch # 0\n",
            "\t\t test batch accuracy = 50.0 %, batch # 1\n",
            "\t\t test batch accuracy = 58.67 %, batch # 2\n",
            "\t\t test batch accuracy = 52.67 %, batch # 3\n",
            "\t\t test batch accuracy = 61.33 %, batch # 4\n",
            "\t\t test batch accuracy = 49.33 %, batch # 5\n",
            "validation loss: 0.36\n",
            "Validation accuracy: 54.33 %\n",
            "epoch: 10\n",
            "\t\t train batch accuracy = 57.32 %, batch # 0\n",
            "\t\t train batch accuracy = 53.97 %, batch # 1\n",
            "\t\t train batch accuracy = 65.83 %, batch # 2\n",
            "\t\t train batch accuracy = 59.98 %, batch # 3\n",
            "\t\t train batch accuracy = 57.87 %, batch # 4\n",
            "\t\t train batch accuracy = 53.78 %, batch # 5\n",
            "\t\t train batch accuracy = 55.23 %, batch # 6\n",
            "\t\t train batch accuracy = 50.35 %, batch # 7\n",
            "\t\t train batch accuracy = 41.45 %, batch # 8\n",
            "\t\t train batch accuracy = 55.65 %, batch # 9\n",
            "\t\t train batch accuracy = 50.82 %, batch # 10\n",
            "\t\t train batch accuracy = 46.95 %, batch # 11\n",
            "\t\t train batch accuracy = 49.22 %, batch # 12\n",
            "\t\t train batch accuracy = 55.28 %, batch # 13\n",
            "training loss: 0.39\n",
            "training accuracy: 53.84 %\n",
            "\t\t test batch accuracy = 54.0 %, batch # 0\n",
            "\t\t test batch accuracy = 50.0 %, batch # 1\n",
            "\t\t test batch accuracy = 58.67 %, batch # 2\n",
            "\t\t test batch accuracy = 52.67 %, batch # 3\n",
            "\t\t test batch accuracy = 61.33 %, batch # 4\n",
            "\t\t test batch accuracy = 49.33 %, batch # 5\n",
            "validation loss: 0.33\n",
            "Validation accuracy: 54.33 %\n",
            "epoch: 11\n",
            "\t\t train batch accuracy = 56.25 %, batch # 0\n",
            "\t\t train batch accuracy = 51.8 %, batch # 1\n",
            "\t\t train batch accuracy = 63.62 %, batch # 2\n",
            "\t\t train batch accuracy = 59.38 %, batch # 3\n",
            "\t\t train batch accuracy = 56.07 %, batch # 4\n",
            "\t\t train batch accuracy = 52.98 %, batch # 5\n",
            "\t\t train batch accuracy = 54.02 %, batch # 6\n",
            "\t\t train batch accuracy = 50.0 %, batch # 7\n",
            "\t\t train batch accuracy = 40.92 %, batch # 8\n",
            "\t\t train batch accuracy = 53.78 %, batch # 9\n",
            "\t\t train batch accuracy = 50.22 %, batch # 10\n",
            "\t\t train batch accuracy = 46.17 %, batch # 11\n",
            "\t\t train batch accuracy = 47.65 %, batch # 12\n",
            "\t\t train batch accuracy = 55.33 %, batch # 13\n",
            "training loss: 0.33\n",
            "training accuracy: 52.73 %\n",
            "\t\t test batch accuracy = 53.07 %, batch # 0\n",
            "\t\t test batch accuracy = 48.45 %, batch # 1\n",
            "\t\t test batch accuracy = 54.08 %, batch # 2\n",
            "\t\t test batch accuracy = 52.03 %, batch # 3\n",
            "\t\t test batch accuracy = 57.68 %, batch # 4\n",
            "\t\t test batch accuracy = 46.88 %, batch # 5\n",
            "validation loss: 0.34\n",
            "Validation accuracy: 52.03 %\n",
            "epoch: 12\n",
            "\t\t train batch accuracy = 53.17 %, batch # 0\n",
            "\t\t train batch accuracy = 51.77 %, batch # 1\n",
            "\t\t train batch accuracy = 61.57 %, batch # 2\n",
            "\t\t train batch accuracy = 56.08 %, batch # 3\n",
            "\t\t train batch accuracy = 54.92 %, batch # 4\n",
            "\t\t train batch accuracy = 47.25 %, batch # 5\n",
            "\t\t train batch accuracy = 49.02 %, batch # 6\n",
            "\t\t train batch accuracy = 44.52 %, batch # 7\n",
            "\t\t train batch accuracy = 43.47 %, batch # 8\n",
            "\t\t train batch accuracy = 48.65 %, batch # 9\n",
            "\t\t train batch accuracy = 47.1 %, batch # 10\n",
            "\t\t train batch accuracy = 42.67 %, batch # 11\n",
            "\t\t train batch accuracy = 45.12 %, batch # 12\n",
            "\t\t train batch accuracy = 50.15 %, batch # 13\n",
            "training loss: 0.36\n",
            "training accuracy: 49.67 %\n",
            "\t\t test batch accuracy = 52.52 %, batch # 0\n",
            "\t\t test batch accuracy = 48.52 %, batch # 1\n",
            "\t\t test batch accuracy = 55.88 %, batch # 2\n",
            "\t\t test batch accuracy = 52.25 %, batch # 3\n",
            "\t\t test batch accuracy = 58.6 %, batch # 4\n",
            "\t\t test batch accuracy = 47.48 %, batch # 5\n",
            "validation loss: 0.36\n",
            "Validation accuracy: 52.54 %\n",
            "epoch: 13\n",
            "\t\t train batch accuracy = 49.73 %, batch # 0\n",
            "\t\t train batch accuracy = 50.35 %, batch # 1\n",
            "\t\t train batch accuracy = 61.4 %, batch # 2\n",
            "\t\t train batch accuracy = 56.32 %, batch # 3\n",
            "\t\t train batch accuracy = 55.08 %, batch # 4\n",
            "\t\t train batch accuracy = 50.98 %, batch # 5\n",
            "\t\t train batch accuracy = 53.55 %, batch # 6\n",
            "\t\t train batch accuracy = 49.5 %, batch # 7\n",
            "\t\t train batch accuracy = 41.98 %, batch # 8\n",
            "\t\t train batch accuracy = 54.93 %, batch # 9\n",
            "\t\t train batch accuracy = 51.72 %, batch # 10\n",
            "\t\t train batch accuracy = 46.43 %, batch # 11\n",
            "\t\t train batch accuracy = 49.7 %, batch # 12\n",
            "\t\t train batch accuracy = 55.77 %, batch # 13\n",
            "training loss: 0.35\n",
            "training accuracy: 51.96 %\n",
            "\t\t test batch accuracy = 54.0 %, batch # 0\n",
            "\t\t test batch accuracy = 50.0 %, batch # 1\n",
            "\t\t test batch accuracy = 58.67 %, batch # 2\n",
            "\t\t test batch accuracy = 52.67 %, batch # 3\n",
            "\t\t test batch accuracy = 61.33 %, batch # 4\n",
            "\t\t test batch accuracy = 49.33 %, batch # 5\n",
            "validation loss: 0.31\n",
            "Validation accuracy: 54.33 %\n",
            "epoch: 14\n",
            "\t\t train batch accuracy = 57.28 %, batch # 0\n",
            "\t\t train batch accuracy = 54.0 %, batch # 1\n",
            "\t\t train batch accuracy = 65.97 %, batch # 2\n",
            "\t\t train batch accuracy = 59.93 %, batch # 3\n",
            "\t\t train batch accuracy = 57.93 %, batch # 4\n",
            "\t\t train batch accuracy = 53.88 %, batch # 5\n",
            "\t\t train batch accuracy = 55.28 %, batch # 6\n",
            "\t\t train batch accuracy = 50.52 %, batch # 7\n",
            "\t\t train batch accuracy = 41.97 %, batch # 8\n",
            "\t\t train batch accuracy = 55.97 %, batch # 9\n",
            "\t\t train batch accuracy = 52.05 %, batch # 10\n",
            "\t\t train batch accuracy = 46.57 %, batch # 11\n",
            "\t\t train batch accuracy = 49.9 %, batch # 12\n",
            "\t\t train batch accuracy = 55.87 %, batch # 13\n",
            "training loss: 0.37\n",
            "training accuracy: 54.08 %\n",
            "\t\t test batch accuracy = 54.0 %, batch # 0\n",
            "\t\t test batch accuracy = 50.0 %, batch # 1\n",
            "\t\t test batch accuracy = 58.67 %, batch # 2\n",
            "\t\t test batch accuracy = 52.67 %, batch # 3\n",
            "\t\t test batch accuracy = 61.33 %, batch # 4\n",
            "\t\t test batch accuracy = 49.33 %, batch # 5\n",
            "validation loss: 0.29\n",
            "Validation accuracy: 54.33 %\n",
            "epoch: 15\n",
            "\t\t train batch accuracy = 57.42 %, batch # 0\n",
            "\t\t train batch accuracy = 54.05 %, batch # 1\n",
            "\t\t train batch accuracy = 65.85 %, batch # 2\n",
            "\t\t train batch accuracy = 60.08 %, batch # 3\n",
            "\t\t train batch accuracy = 57.85 %, batch # 4\n",
            "\t\t train batch accuracy = 53.93 %, batch # 5\n",
            "\t\t train batch accuracy = 55.28 %, batch # 6\n",
            "\t\t train batch accuracy = 50.43 %, batch # 7\n",
            "\t\t train batch accuracy = 41.95 %, batch # 8\n",
            "\t\t train batch accuracy = 55.78 %, batch # 9\n",
            "\t\t train batch accuracy = 51.58 %, batch # 10\n",
            "\t\t train batch accuracy = 46.7 %, batch # 11\n",
            "\t\t train batch accuracy = 49.75 %, batch # 12\n",
            "\t\t train batch accuracy = 55.88 %, batch # 13\n",
            "training loss: 0.36\n",
            "training accuracy: 54.04 %\n",
            "\t\t test batch accuracy = 54.0 %, batch # 0\n",
            "\t\t test batch accuracy = 50.0 %, batch # 1\n",
            "\t\t test batch accuracy = 58.67 %, batch # 2\n",
            "\t\t test batch accuracy = 52.67 %, batch # 3\n",
            "\t\t test batch accuracy = 61.33 %, batch # 4\n",
            "\t\t test batch accuracy = 49.33 %, batch # 5\n",
            "validation loss: 0.29\n",
            "Validation accuracy: 54.33 %\n",
            "epoch: 16\n",
            "\t\t train batch accuracy = 57.0 %, batch # 0\n",
            "\t\t train batch accuracy = 53.68 %, batch # 1\n",
            "\t\t train batch accuracy = 65.4 %, batch # 2\n",
            "\t\t train batch accuracy = 60.0 %, batch # 3\n",
            "\t\t train batch accuracy = 57.47 %, batch # 4\n",
            "\t\t train batch accuracy = 53.73 %, batch # 5\n",
            "\t\t train batch accuracy = 55.22 %, batch # 6\n",
            "\t\t train batch accuracy = 50.25 %, batch # 7\n",
            "\t\t train batch accuracy = 41.72 %, batch # 8\n",
            "\t\t train batch accuracy = 55.62 %, batch # 9\n",
            "\t\t train batch accuracy = 51.47 %, batch # 10\n",
            "\t\t train batch accuracy = 46.75 %, batch # 11\n",
            "\t\t train batch accuracy = 49.23 %, batch # 12\n",
            "\t\t train batch accuracy = 55.67 %, batch # 13\n",
            "training loss: 0.32\n",
            "training accuracy: 53.8 %\n",
            "\t\t test batch accuracy = 54.0 %, batch # 0\n",
            "\t\t test batch accuracy = 50.0 %, batch # 1\n",
            "\t\t test batch accuracy = 58.67 %, batch # 2\n",
            "\t\t test batch accuracy = 52.67 %, batch # 3\n",
            "\t\t test batch accuracy = 61.33 %, batch # 4\n",
            "\t\t test batch accuracy = 49.33 %, batch # 5\n",
            "validation loss: 0.29\n",
            "Validation accuracy: 54.33 %\n",
            "epoch: 17\n",
            "\t\t train batch accuracy = 55.67 %, batch # 0\n",
            "\t\t train batch accuracy = 53.98 %, batch # 1\n",
            "\t\t train batch accuracy = 64.47 %, batch # 2\n",
            "\t\t train batch accuracy = 59.33 %, batch # 3\n",
            "\t\t train batch accuracy = 56.72 %, batch # 4\n",
            "\t\t train batch accuracy = 51.4 %, batch # 5\n",
            "\t\t train batch accuracy = 53.97 %, batch # 6\n",
            "\t\t train batch accuracy = 48.33 %, batch # 7\n",
            "\t\t train batch accuracy = 42.3 %, batch # 8\n",
            "\t\t train batch accuracy = 54.2 %, batch # 9\n",
            "\t\t train batch accuracy = 49.9 %, batch # 10\n",
            "\t\t train batch accuracy = 45.72 %, batch # 11\n",
            "\t\t train batch accuracy = 48.55 %, batch # 12\n",
            "\t\t train batch accuracy = 54.9 %, batch # 13\n",
            "training loss: 0.32\n",
            "training accuracy: 52.82 %\n",
            "\t\t test batch accuracy = 53.43 %, batch # 0\n",
            "\t\t test batch accuracy = 49.63 %, batch # 1\n",
            "\t\t test batch accuracy = 56.92 %, batch # 2\n",
            "\t\t test batch accuracy = 52.78 %, batch # 3\n",
            "\t\t test batch accuracy = 59.82 %, batch # 4\n",
            "\t\t test batch accuracy = 48.43 %, batch # 5\n",
            "validation loss: 0.32\n",
            "Validation accuracy: 53.5 %\n",
            "epoch: 18\n",
            "\t\t train batch accuracy = 53.55 %, batch # 0\n",
            "\t\t train batch accuracy = 52.43 %, batch # 1\n",
            "\t\t train batch accuracy = 63.17 %, batch # 2\n",
            "\t\t train batch accuracy = 58.33 %, batch # 3\n",
            "\t\t train batch accuracy = 56.78 %, batch # 4\n",
            "\t\t train batch accuracy = 51.23 %, batch # 5\n",
            "\t\t train batch accuracy = 54.13 %, batch # 6\n",
            "\t\t train batch accuracy = 48.87 %, batch # 7\n",
            "\t\t train batch accuracy = 41.63 %, batch # 8\n",
            "\t\t train batch accuracy = 54.77 %, batch # 9\n",
            "\t\t train batch accuracy = 50.95 %, batch # 10\n",
            "\t\t train batch accuracy = 46.22 %, batch # 11\n",
            "\t\t train batch accuracy = 49.28 %, batch # 12\n",
            "\t\t train batch accuracy = 55.13 %, batch # 13\n",
            "training loss: 0.32\n",
            "training accuracy: 52.61 %\n",
            "\t\t test batch accuracy = 53.97 %, batch # 0\n",
            "\t\t test batch accuracy = 50.0 %, batch # 1\n",
            "\t\t test batch accuracy = 58.6 %, batch # 2\n",
            "\t\t test batch accuracy = 52.7 %, batch # 3\n",
            "\t\t test batch accuracy = 61.27 %, batch # 4\n",
            "\t\t test batch accuracy = 49.35 %, batch # 5\n",
            "validation loss: 0.33\n",
            "Validation accuracy: 54.31 %\n",
            "epoch: 19\n",
            "\t\t train batch accuracy = 56.15 %, batch # 0\n",
            "\t\t train batch accuracy = 53.3 %, batch # 1\n",
            "\t\t train batch accuracy = 64.5 %, batch # 2\n",
            "\t\t train batch accuracy = 59.33 %, batch # 3\n",
            "\t\t train batch accuracy = 57.48 %, batch # 4\n",
            "\t\t train batch accuracy = 52.75 %, batch # 5\n",
            "\t\t train batch accuracy = 54.98 %, batch # 6\n",
            "\t\t train batch accuracy = 49.98 %, batch # 7\n",
            "\t\t train batch accuracy = 42.05 %, batch # 8\n",
            "\t\t train batch accuracy = 55.17 %, batch # 9\n",
            "\t\t train batch accuracy = 51.38 %, batch # 10\n",
            "\t\t train batch accuracy = 46.6 %, batch # 11\n",
            "\t\t train batch accuracy = 49.8 %, batch # 12\n",
            "\t\t train batch accuracy = 55.65 %, batch # 13\n",
            "training loss: 0.32\n",
            "training accuracy: 53.51 %\n",
            "\t\t test batch accuracy = 54.0 %, batch # 0\n",
            "\t\t test batch accuracy = 50.0 %, batch # 1\n",
            "\t\t test batch accuracy = 58.67 %, batch # 2\n",
            "\t\t test batch accuracy = 52.65 %, batch # 3\n",
            "\t\t test batch accuracy = 61.33 %, batch # 4\n",
            "\t\t test batch accuracy = 49.33 %, batch # 5\n",
            "validation loss: 0.3\n",
            "Validation accuracy: 54.33 %\n",
            "epoch: 20\n",
            "\t\t train batch accuracy = 56.87 %, batch # 0\n",
            "\t\t train batch accuracy = 53.85 %, batch # 1\n",
            "\t\t train batch accuracy = 65.63 %, batch # 2\n",
            "\t\t train batch accuracy = 59.85 %, batch # 3\n",
            "\t\t train batch accuracy = 57.8 %, batch # 4\n",
            "\t\t train batch accuracy = 53.9 %, batch # 5\n",
            "\t\t train batch accuracy = 55.27 %, batch # 6\n",
            "\t\t train batch accuracy = 50.63 %, batch # 7\n",
            "\t\t train batch accuracy = 41.98 %, batch # 8\n",
            "\t\t train batch accuracy = 55.88 %, batch # 9\n",
            "\t\t train batch accuracy = 51.93 %, batch # 10\n",
            "\t\t train batch accuracy = 46.6 %, batch # 11\n",
            "\t\t train batch accuracy = 49.98 %, batch # 12\n",
            "\t\t train batch accuracy = 55.9 %, batch # 13\n",
            "training loss: 0.33\n",
            "training accuracy: 54.01 %\n",
            "\t\t test batch accuracy = 54.0 %, batch # 0\n",
            "\t\t test batch accuracy = 50.0 %, batch # 1\n",
            "\t\t test batch accuracy = 58.67 %, batch # 2\n",
            "\t\t test batch accuracy = 52.67 %, batch # 3\n",
            "\t\t test batch accuracy = 61.33 %, batch # 4\n",
            "\t\t test batch accuracy = 49.33 %, batch # 5\n",
            "validation loss: 0.29\n",
            "Validation accuracy: 54.33 %\n",
            "DONE TRAINING\n"
          ]
        }
      ],
      "source": [
        "# For monitoring acc and losses\n",
        "avg_epoch_acc_train = []\n",
        "avg_epoch_acc_val = []\n",
        "avg_epoch_losses_train = []\n",
        "avg_epoch_losses_val = []\n",
        "\n",
        "num_images = 150\n",
        "batch_size = num_images*40 \n",
        "\n",
        "print('Model initialized and prepped, begin training...')\n",
        "\n",
        "for epoch in range(n_epochs):  \n",
        "    cn_model.train()\n",
        "    print('epoch:', epoch+1)\n",
        "\n",
        "    #VALIDATION FOR before any training! (just once)\n",
        "    if epoch == 0:\n",
        "        ds_valid_size = 0\n",
        "        cn_model.eval()\n",
        "        epoch_loss = 0\n",
        "        test_total_accuracy = 0\n",
        "        with torch.no_grad():\n",
        "          for ii in range(np.shape(rand_test)[0]):\n",
        "            im_valid, y_valid = data_batch(datafile_index=num_images*rand_test[ii], num_images=num_images)\n",
        "            im_valid = im_valid.reshape(100, 100, 1, im_valid.shape[2])\n",
        "            im_valid = im_valid.T\n",
        "\n",
        "            #print(np.shape(im_valid))\n",
        "            #plt.imshow(im_valid[0,0,:,:])\n",
        "            #plt.show()\n",
        "\n",
        "            im_valid = im_valid.detach().to('cuda')\n",
        "            y_valid = y_valid.detach().to('cuda')\n",
        "\n",
        "            y_pred_valid = cn_model(im_valid)\n",
        "            y_pred_valid_cat = nn.functional.softmax(y_pred_valid, dim=1)\n",
        "\n",
        "            #updated accuracy calculation:\n",
        "            test_predictions = torch.argmax(y_pred_valid_cat, dim=1)\n",
        "            test_label_predictions = torch.argmax(y_valid, dim=1)\n",
        "            test_batch_size = np.shape(test_predictions)[0]\n",
        "            test_batch_accuracy = torch.sum(test_predictions == test_label_predictions).item()/test_batch_size\n",
        "            print(f'\\t\\t test batch accuracy = {np.round(100*test_batch_accuracy,2)} %, batch # {ds_valid_size}')\n",
        "            test_total_accuracy += test_batch_accuracy\n",
        "\n",
        "            loss = loss_fn(y_pred_valid, y_valid)\n",
        "            epoch_loss += loss.item()\n",
        "            ds_valid_size += 1\n",
        "\n",
        "            #delete image and label every loop train:\n",
        "            del im_valid\n",
        "            del y_valid\n",
        "            torch.cuda.empty_cache()\n",
        "          \n",
        "          #calculate total loss validation\n",
        "          v_loss = epoch_loss / ds_valid_size\n",
        "          avg_epoch_losses_val.append(v_loss)\n",
        "          print('validation loss:', np.round(v_loss,2))\n",
        "\n",
        "          #calculate total accuracy validation\n",
        "          test_total_accuracy = 100 * test_total_accuracy / np.shape(rand_test)[0]\n",
        "          print('Validation accuracy:', np.round(test_total_accuracy,2), '%')\n",
        "          avg_epoch_acc_val.append(test_total_accuracy)\n",
        "\n",
        "\n",
        "\n",
        "    # quick fix to get training dataset size\n",
        "    ds_size = 0\n",
        "    \n",
        "    train_total_accuracy = 0\n",
        "    epoch_loss = 0\n",
        "    for ii in range(np.shape(rand_train)[0]): \n",
        "      #print('batch', ii+1, '/', batch_size)\n",
        "      im, y = data_batch(datafile_index=num_images*rand_train[ii], num_images=num_images)\n",
        "\n",
        "      # reshaping im to what we want (can do this as data output too)\n",
        "      im = im.reshape(100, 100, 1, im.shape[2])\n",
        "      im = im.T\n",
        "\n",
        "      im = im.detach().to('cuda')\n",
        "      y = y.detach().to('cuda')\n",
        "\n",
        "      y_pred = cn_model(im)\n",
        "      y_pred_cat = nn.functional.softmax(y_pred, dim=1)\n",
        "      #print(np.shape(y_pred))\n",
        "      #print(np.shape(y_pred_cat))\n",
        "      \n",
        "\n",
        "      #updated accuracy calculation:\n",
        "      #train_predictions = torch.argmax(y_pred, dim=1)\n",
        "      train_predictions = torch.argmax(y_pred_cat, dim=1)\n",
        "      train_label_predictions = torch.argmax(y, dim=1)\n",
        "      train_batch_size = np.shape(train_predictions)[0]\n",
        "      train_batch_accuracy = torch.sum(train_predictions == train_label_predictions).item()/train_batch_size\n",
        "      print(f'\\t\\t train batch accuracy = {np.round(100*train_batch_accuracy,2)} %, batch # {ds_size}')\n",
        "      train_total_accuracy += train_batch_accuracy\n",
        "\n",
        "      # im doing the backprop after each batch\n",
        "      # (we may just want to do after each epoch)\n",
        "      #loss = loss_fn(y_pred_cat, y)\n",
        "      loss = loss_fn(y_pred, y) #commented out because this does not have the softmax applied to it (does it?)\n",
        "      loss.backward()\n",
        "      optimizer.step()\n",
        "      epoch_loss += loss.item()\n",
        "      ds_size += 1\n",
        "\n",
        "      #delete image and label every loop train:\n",
        "      #im = im.detach() #try to make sure not saved image and label\n",
        "      #y = y.detach()\n",
        "\n",
        "      del im\n",
        "      del y\n",
        "      torch.cuda.empty_cache()\n",
        "\n",
        "    t_loss = epoch_loss / ds_size\n",
        "    print('training loss:', np.round(t_loss,2))\n",
        "    avg_epoch_losses_train.append(t_loss)\n",
        "\n",
        "    train_total_accuracy = 100 * train_total_accuracy / np.shape(rand_train)[0]\n",
        "    print('training accuracy:', np.round(train_total_accuracy,2), '%')\n",
        "    avg_epoch_acc_train.append(train_total_accuracy)\n",
        "\n",
        "\n",
        "    #NEW VALIDATION:----------------------------------\n",
        "\n",
        "    ds_valid_size = 0\n",
        "    cn_model.eval() #what does that do?\n",
        "    epoch_loss = 0\n",
        "    test_total_accuracy = 0\n",
        "    with torch.no_grad():\n",
        "      for ii in range(np.shape(rand_test)[0]):\n",
        "        im_valid, y_valid = data_batch(datafile_index=num_images*rand_test[ii], num_images=num_images)\n",
        "        im_valid = im_valid.reshape(100, 100, 1, im_valid.shape[2])\n",
        "        im_valid = im_valid.T\n",
        "\n",
        "        im_valid = im_valid.detach().to('cuda')\n",
        "        y_valid = y_valid.detach().to('cuda')\n",
        "\n",
        "        y_pred_valid = cn_model(im_valid)\n",
        "        y_pred_valid_cat = nn.functional.softmax(y_pred_valid, dim=1)\n",
        "\n",
        "        #updated accuracy calculation:\n",
        "        test_predictions = torch.argmax(y_pred_valid_cat, dim=1)\n",
        "        test_label_predictions = torch.argmax(y_valid, dim=1)\n",
        "        test_batch_size = np.shape(test_predictions)[0]\n",
        "        test_batch_accuracy = torch.sum(test_predictions == test_label_predictions).item()/test_batch_size\n",
        "        print(f'\\t\\t test batch accuracy = {np.round(100*test_batch_accuracy,2)} %, batch # {ds_valid_size}')\n",
        "        test_total_accuracy += test_batch_accuracy\n",
        "\n",
        "        loss = loss_fn(y_pred_valid, y_valid)\n",
        "        epoch_loss += loss.item()\n",
        "        ds_valid_size += 1\n",
        "\n",
        "        #delete image and label every loop train:\n",
        "        del im_valid\n",
        "        del y_valid\n",
        "        torch.cuda.empty_cache()\n",
        "      \n",
        "      #calculate total loss validation\n",
        "      v_loss = epoch_loss / ds_valid_size\n",
        "      avg_epoch_losses_val.append(v_loss)\n",
        "      print('validation loss:', np.round(v_loss,2))\n",
        "\n",
        "      #calculate total accuracy validation\n",
        "      test_total_accuracy = 100 * test_total_accuracy / np.shape(rand_test)[0]\n",
        "      print('Validation accuracy:', np.round(test_total_accuracy,2), '%')\n",
        "      avg_epoch_acc_val.append(test_total_accuracy)\n",
        "\n",
        "\n",
        "print(\"DONE TRAINING\")"
      ]
    },
    {
      "cell_type": "code",
      "execution_count": 18,
      "metadata": {
        "id": "cYok9ykjme8m"
      },
      "outputs": [],
      "source": []
    },
    {
      "cell_type": "markdown",
      "metadata": {
        "id": "SQ4FxiqUdOpF"
      },
      "source": [
        "Ashley's troubleshooting notes:\n",
        "- I actually run into the issue again when I try num_images = 50, but num_images = 10 seems to be totally fine\n",
        "- I thought the issue was due to us using empty in the data loading function and it using old memory so I did make some changes in that function like replacing that with zeros\n",
        "- C1 might not be working due to different stride and no set learning rate\n",
        "- The paper also seems to have weird learning results..."
      ]
    },
    {
      "cell_type": "code",
      "execution_count": 19,
      "metadata": {
        "colab": {
          "base_uri": "https://localhost:8080/",
          "height": 947
        },
        "id": "O271JYPaVgGn",
        "outputId": "f3df9e72-a726-42af-bcad-ef5406e5d295"
      },
      "outputs": [
        {
          "name": "stdout",
          "output_type": "stream",
          "text": [
            "[51.69285714 52.525      53.79047619 49.22738095 48.27619048 54.13690476\n",
            " 49.25       48.30238095 54.06547619 53.83571429 52.72738095 49.67380952\n",
            " 51.96071429 54.0797619  54.03928571 53.8        52.81666667 52.60595238\n",
            " 53.50952381 54.00595238] [23.03888889 54.33333333 54.33333333 54.33333333 23.39444444 53.58333333\n",
            " 54.32222222 50.07777778 54.31111111 54.33333333 54.33333333 52.03333333\n",
            " 52.54166667 54.33333333 54.33333333 54.33333333 54.33333333 53.50277778\n",
            " 54.31388889 54.33055556 54.33333333] [0.35343128 0.32284785 0.38294904 0.35708692 0.39068128 0.42855825\n",
            " 0.34728627 0.36699776 0.34595469 0.38994063 0.32904896 0.36266924\n",
            " 0.35263958 0.37094484 0.36343912 0.31574142 0.31675539 0.3222651\n",
            " 0.31770521 0.32571628] [0.56534955 0.38969448 0.34153931 0.62871281 0.54321982 0.45380759\n",
            " 0.38878122 0.37377827 0.36970651 0.3626753  0.33408519 0.33684464\n",
            " 0.36347478 0.31375856 0.2902077  0.28785317 0.2915049  0.31745275\n",
            " 0.32724137 0.29646777 0.28556524]\n"
          ]
        },
        {
          "data": {
            "image/png": "[encoded data removed]",
            "text/plain": [
              "<Figure size 504x360 with 1 Axes>"
            ]
          },
          "metadata": {
            "needs_background": "light"
          },
          "output_type": "display_data"
        },
        {
          "data": {
            "image/png": "[encoded data removed]",
            "text/plain": [
              "<Figure size 504x360 with 1 Axes>"
            ]
          },
          "metadata": {
            "needs_background": "light"
          },
          "output_type": "display_data"
        }
      ],
      "source": [
        "train_acc = np.array(avg_epoch_acc_train)\n",
        "valid_acc = np.array(avg_epoch_acc_val)\n",
        "train_loss = np.array(avg_epoch_losses_train)\n",
        "valid_loss = np.array(avg_epoch_losses_val)\n",
        "\n",
        "print(train_acc, valid_acc, train_loss, valid_loss)\n",
        "\n",
        "#Plot accuracy results:\n",
        "plt.figure(figsize=(7,5)) #set plot size\n",
        "\n",
        "plt.plot(range(np.shape(train_acc)[0]), train_acc, label='Training Accuracy', \n",
        "             linestyle='-', color='red', linewidth=3)\n",
        "plt.plot(range(np.shape(valid_acc)[0]), valid_acc, label='Validation Accuracy', \n",
        "             linestyle='-', color='blue', linewidth=3)\n",
        "\n",
        "plt.yticks(fontsize=12, rotation=0) #adjust axis tick numbers font size\n",
        "plt.xticks(fontsize=12, rotation=0) #adjust axis tick numbers font size\n",
        "plt.xlabel('Epoch Number', fontsize=14) #set axis label\n",
        "plt.ylabel('Percent Accuracy', fontsize=14) #set axis label\n",
        "plt.title('Training of 4 way C2 CNN Network', fontsize=16) #set title\n",
        "plt.legend(fontsize=10)\n",
        "plt.xlim(0, np.shape(train_acc)[0]) #set axis limits\n",
        "plt.grid(True, which='minor', color='gray', linestyle='--', linewidth=1, alpha=0.2) #set gridlines\n",
        "plt.grid(True, which='major', color='gray', linestyle='-', linewidth=1, alpha=0.5) #set gridlines\n",
        "plt.tight_layout()\n",
        "plt.savefig(CWD+'data/Jordan_C2_4way_Accuracy_plot_v7.png',dpi=300)\n",
        "#plt.close() #Stops the figure from being shown\n",
        "plt.show() #display the figure\n",
        "\n",
        "\n",
        "\n",
        "#Plot loss results:\n",
        "plt.figure(figsize=(7,5)) #set plot size\n",
        "\n",
        "plt.plot(range(np.shape(train_loss)[0]), train_loss, label='Training Loss', \n",
        "             linestyle='-', color='red', linewidth=3)\n",
        "plt.plot(range(np.shape(valid_loss)[0]), valid_loss, label='Validation Loss', \n",
        "             linestyle='-', color='blue', linewidth=3)\n",
        "\n",
        "plt.yticks(fontsize=12, rotation=0) #adjust axis tick numbers font size\n",
        "plt.xticks(fontsize=12, rotation=0) #adjust axis tick numbers font size\n",
        "plt.xlabel('Epoch Number', fontsize=14) #set axis label\n",
        "plt.ylabel('Loss', fontsize=14) #set axis label\n",
        "plt.title('Training of 4 way C2 CNN Network', fontsize=16) #set title\n",
        "plt.legend(fontsize=10)\n",
        "plt.xlim(0, np.shape(train_acc)[0]) #set axis limits\n",
        "plt.grid(True, which='minor', color='gray', linestyle='--', linewidth=1, alpha=0.2) #set gridlines\n",
        "plt.grid(True, which='major', color='gray', linestyle='-', linewidth=1, alpha=0.5) #set gridlines\n",
        "plt.tight_layout()\n",
        "#plt.yscale('log')\n",
        "plt.savefig(CWD+'data/Jordan_C2_4way_Loss_plot_v7.png',dpi=300)\n",
        "#plt.close() #Stops the figure from being shown\n",
        "plt.show() #display the figure"
      ]
    },
    {
      "cell_type": "code",
      "execution_count": 20,
      "metadata": {
        "id": "4-K30VyfjWYU"
      },
      "outputs": [],
      "source": [
        "# save model itself \n",
        "#torch.save(cn_model.state_dict(), CWD+'data/test_model1_jordan')#, CWD + 'Notebooks/models/')"
      ]
    },
    {
      "cell_type": "code",
      "execution_count": 21,
      "metadata": {
        "colab": {
          "base_uri": "https://localhost:8080/",
          "height": 104
        },
        "id": "WKDlFn3F1WxT",
        "outputId": "89fa062f-e1ca-4c5d-c37a-71059a53f7f2"
      },
      "outputs": [
        {
          "data": {
            "application/vnd.google.colaboratory.intrinsic+json": {
              "type": "string"
            },
            "text/plain": [
              "\"\\n# plot accuracy/loss versus epoch\\nfig1 = plt.figure(figsize=(10,3))\\n\\n\\nax1 = plt.subplot(121)\\nax1.plot(avg_epoch_acc_train, '--', color='darkslategray', linewidth=2, label='training')\\nax1.plot(avg_epoch_acc_val, linewidth=2, label='valiation') \\nax1.legend()\\nax1.set_title('Model Accuracy')\\nax1.set_ylabel('Accuracy')\\nax1.set_xlabel('Epoch')\\n\\nax2 = plt.subplot(122)\\nax2.plot(avg_epoch_losses_train, '--', color='crimson', linewidth=2, label='training')\\nax2.plot(avg_epoch_losses_val, linewidth=2, label='validation')\\nax2.legend()\\nax2.set_title('Model Loss')\\nax2.set_ylabel('Loss')\\nax2.set_xlabel('Epoch')\\n\\nfig1.savefig(CWD + 'Notebooks/plots/'+'CNN_training_history.png')\\n\\nplt.show()\\n\""
            ]
          },
          "execution_count": 21,
          "metadata": {},
          "output_type": "execute_result"
        }
      ],
      "source": [
        "'''\n",
        "# plot accuracy/loss versus epoch\n",
        "fig1 = plt.figure(figsize=(10,3))\n",
        "\n",
        "\n",
        "ax1 = plt.subplot(121)\n",
        "ax1.plot(avg_epoch_acc_train, '--', color='darkslategray', linewidth=2, label='training')\n",
        "ax1.plot(avg_epoch_acc_val, linewidth=2, label='valiation') \n",
        "ax1.legend()\n",
        "ax1.set_title('Model Accuracy')\n",
        "ax1.set_ylabel('Accuracy')\n",
        "ax1.set_xlabel('Epoch')\n",
        "\n",
        "ax2 = plt.subplot(122)\n",
        "ax2.plot(avg_epoch_losses_train, '--', color='crimson', linewidth=2, label='training')\n",
        "ax2.plot(avg_epoch_losses_val, linewidth=2, label='validation')\n",
        "ax2.legend()\n",
        "ax2.set_title('Model Loss')\n",
        "ax2.set_ylabel('Loss')\n",
        "ax2.set_xlabel('Epoch')\n",
        "\n",
        "fig1.savefig(CWD + 'Notebooks/plots/'+'CNN_training_history.png')\n",
        "\n",
        "plt.show()\n",
        "'''"
      ]
    },
    {
      "cell_type": "markdown",
      "metadata": {
        "id": "Ty5Ps1yI1a9q"
      },
      "source": [
        "# **Testing - Don't run this yet, it's not done **\n",
        "Here we apply the model to the test set and create a confusion matrix to gauge performance"
      ]
    },
    {
      "cell_type": "code",
      "execution_count": 22,
      "metadata": {
        "colab": {
          "base_uri": "https://localhost:8080/",
          "height": 52
        },
        "id": "yEGmwZciDo13",
        "outputId": "ce403282-825f-470c-b039-64e1f4b07329"
      },
      "outputs": [
        {
          "data": {
            "application/vnd.google.colaboratory.intrinsic+json": {
              "type": "string"
            },
            "text/plain": [
              "'\\n#@title\\n### ADAPT THIS TO GET TEST SET STATS (way to make it not do data augmentation and just stick with original images?)\\nfor ii in range(np.shape(rand_test)[0]):\\n  if ii == 0:\\n    pass\\n  else:\\n    image_batch, label_batch = data_batch(datafile_index=50*rand_test[ii], num_images=50)\\n'"
            ]
          },
          "execution_count": 22,
          "metadata": {},
          "output_type": "execute_result"
        }
      ],
      "source": [
        "'''\n",
        "#@title\n",
        "### ADAPT THIS TO GET TEST SET STATS (way to make it not do data augmentation and just stick with original images?)\n",
        "for ii in range(np.shape(rand_test)[0]):\n",
        "  if ii == 0:\n",
        "    pass\n",
        "  else:\n",
        "    image_batch, label_batch = data_batch(datafile_index=50*rand_test[ii], num_images=50)\n",
        "'''"
      ]
    },
    {
      "cell_type": "code",
      "execution_count": 23,
      "metadata": {
        "colab": {
          "base_uri": "https://localhost:8080/",
          "height": 52
        },
        "id": "YaYRm0Xa1llA",
        "outputId": "50abe041-92fc-41f7-bbff-24fbcedf74d0"
      },
      "outputs": [
        {
          "data": {
            "application/vnd.google.colaboratory.intrinsic+json": {
              "type": "string"
            },
            "text/plain": [
              "'\\n#@title\\n# make predictions on test set and compare to real labels\\npreds_test = cn_model.predict(X_test, verbose=1)\\nresults = cn_model.evaluate(X_test, y_test) \\nprint(\"test loss, valid acc:\", results)\\n'"
            ]
          },
          "execution_count": 23,
          "metadata": {},
          "output_type": "execute_result"
        }
      ],
      "source": [
        "'''\n",
        "#@title\n",
        "# make predictions on test set and compare to real labels\n",
        "preds_test = cn_model.predict(X_test, verbose=1)\n",
        "results = cn_model.evaluate(X_test, y_test) \n",
        "print(\"test loss, valid acc:\", results)\n",
        "'''"
      ]
    },
    {
      "cell_type": "code",
      "execution_count": 24,
      "metadata": {
        "colab": {
          "base_uri": "https://localhost:8080/",
          "height": 70
        },
        "id": "U1LAiOnE1pJQ",
        "outputId": "7b684684-132d-45ec-8d3a-1cad6ab01b7f"
      },
      "outputs": [
        {
          "data": {
            "application/vnd.google.colaboratory.intrinsic+json": {
              "type": "string"
            },
            "text/plain": [
              "\"\\n#@title\\n# plot confusion matrix\\nfig2 = plt.figure()\\ncm = confusion_matrix(y_valid, preds_valid)\\nplt.matshow(cm)\\n\\nfor (i, j), z in np.ndenumerate(cm):\\n    pyl.text(j, i, '{:0.1f}'.format(z), ha='center', va='center')\\nplt.title('Confusion matrix (validation data)')\\nplt.colorbar()\\nplt.xlabel('Predicted labels')\\nplt.ylabel('True labels')\\nplt.show()\\nplt.savefig(model_dir_name +'plots/'+'CNN_confusion_matrix.png')\\n\""
            ]
          },
          "execution_count": 24,
          "metadata": {},
          "output_type": "execute_result"
        }
      ],
      "source": [
        "'''\n",
        "#@title\n",
        "# plot confusion matrix\n",
        "fig2 = plt.figure()\n",
        "cm = confusion_matrix(y_valid, preds_valid)\n",
        "plt.matshow(cm)\n",
        "\n",
        "for (i, j), z in np.ndenumerate(cm):\n",
        "    pyl.text(j, i, '{:0.1f}'.format(z), ha='center', va='center')\n",
        "plt.title('Confusion matrix (validation data)')\n",
        "plt.colorbar()\n",
        "plt.xlabel('Predicted labels')\n",
        "plt.ylabel('True labels')\n",
        "plt.show()\n",
        "plt.savefig(model_dir_name +'plots/'+'CNN_confusion_matrix.png')\n",
        "'''"
      ]
    }
  ],
  "metadata": {
    "accelerator": "GPU",
    "colab": {
      "include_colab_link": true,
      "machine_shape": "hm",
      "provenance": []
    },
    "gpuClass": "premium",
    "kernelspec": {
      "display_name": "Python 3.9.11 64-bit",
      "language": "python",
      "name": "python3"
    },
    "language_info": {
      "name": "python",
      "version": "3.9.11"
    },
    "vscode": {
      "interpreter": {
        "hash": "f8696d3d898bc62b90f4cd7d878fc87a051ec77bbff0b42338ab50969b9d3714"
      }
    }
  },
  "nbformat": 4,
  "nbformat_minor": 0
}
