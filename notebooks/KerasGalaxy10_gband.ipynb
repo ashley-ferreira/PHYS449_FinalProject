{
  "cells": [
    {
      "cell_type": "markdown",
      "source": [
        "# **PHYS 449: Final Project Notebook**\n",
        "#### Reproducing results from \"Morphological classification of galaxies with deep learning: comparing 3-way and 4-way CNNs\" by Mitchell K. Cavanagh, Kenji Bekki and Brent A. Groves\n",
        "\n",
        "Using galax10 dataset, specifically the g-band filter and keras"
      ],
      "metadata": {
        "id": "SP6Lin_YWwBf"
      }
    },
    {
      "cell_type": "markdown",
      "source": [
        "# **Settings for Run**\n"
      ],
      "metadata": {
        "id": "fl4sV7bkW1Sj"
      }
    },
    {
      "cell_type": "code",
      "source": [
        "# can set both to true\n",
        "run_C1 = True \n",
        "run_C2 = True\n",
        "\n",
        "# can only be 3 or 4\n",
        "num_class = 3"
      ],
      "metadata": {
        "id": "ELJbHACxW8fn"
      },
      "execution_count": 11,
      "outputs": []
    },
    {
      "cell_type": "code",
      "source": [
        "# train, test, validation splits\n",
        "train_split = 0.85\n",
        "valid_split = 0.15\n",
        "test_split = 0.15 # do shuffle to get this"
      ],
      "metadata": {
        "id": "NDRY2cGNZwBo"
      },
      "execution_count": 12,
      "outputs": []
    },
    {
      "cell_type": "code",
      "source": [
        "input_shape = (69,69,1) # images of 69x69"
      ],
      "metadata": {
        "id": "gkjZmKuXbMue"
      },
      "execution_count": 13,
      "outputs": []
    },
    {
      "cell_type": "markdown",
      "metadata": {
        "id": "MwiYuuw1bYJx"
      },
      "source": [
        "# **Imports**"
      ]
    },
    {
      "cell_type": "code",
      "execution_count": 14,
      "metadata": {
        "colab": {
          "base_uri": "https://localhost:8080/"
        },
        "id": "2aGGy5zLcBb-",
        "outputId": "e4619c90-dfd9-4422-f3bc-8209a0a71efe"
      },
      "outputs": [
        {
          "output_type": "stream",
          "name": "stdout",
          "text": [
            "Looking in indexes: https://pypi.org/simple, https://us-python.pkg.dev/colab-wheels/public/simple/\n",
            "Collecting astroNN\n",
            "  Downloading astroNN-1.0.1.tar.gz (9.3 MB)\n",
            "\u001b[K     |████████████████████████████████| 9.3 MB 37.0 MB/s \n",
            "\u001b[?25hRequirement already satisfied: numpy in /usr/local/lib/python3.8/dist-packages (from astroNN) (1.21.6)\n",
            "Requirement already satisfied: astropy in /usr/local/lib/python3.8/dist-packages (from astroNN) (4.3.1)\n",
            "Requirement already satisfied: h5py in /usr/local/lib/python3.8/dist-packages (from astroNN) (3.1.0)\n",
            "Requirement already satisfied: matplotlib in /usr/local/lib/python3.8/dist-packages (from astroNN) (3.2.2)\n",
            "Collecting astroquery\n",
            "  Downloading astroquery-0.4.6-py3-none-any.whl (4.5 MB)\n",
            "\u001b[K     |████████████████████████████████| 4.5 MB 61.3 MB/s \n",
            "\u001b[?25hRequirement already satisfied: pandas in /usr/local/lib/python3.8/dist-packages (from astroNN) (1.3.5)\n",
            "Requirement already satisfied: seaborn in /usr/local/lib/python3.8/dist-packages (from astroNN) (0.11.2)\n",
            "Requirement already satisfied: scikit-learn in /usr/local/lib/python3.8/dist-packages (from astroNN) (1.0.2)\n",
            "Requirement already satisfied: tqdm in /usr/local/lib/python3.8/dist-packages (from astroNN) (4.64.1)\n",
            "Requirement already satisfied: packaging in /usr/local/lib/python3.8/dist-packages (from astroNN) (21.3)\n",
            "Requirement already satisfied: pyerfa>=1.7.3 in /usr/local/lib/python3.8/dist-packages (from astropy->astroNN) (2.0.0.1)\n",
            "Requirement already satisfied: html5lib>=0.999 in /usr/local/lib/python3.8/dist-packages (from astroquery->astroNN) (1.0.1)\n",
            "Collecting keyring>=4.0\n",
            "  Downloading keyring-23.11.0-py3-none-any.whl (36 kB)\n",
            "Requirement already satisfied: requests>=2.4.3 in /usr/local/lib/python3.8/dist-packages (from astroquery->astroNN) (2.23.0)\n",
            "Collecting pyvo>=1.1\n",
            "  Downloading pyvo-1.4-py3-none-any.whl (885 kB)\n",
            "\u001b[K     |████████████████████████████████| 885 kB 85.5 MB/s \n",
            "\u001b[?25hRequirement already satisfied: beautifulsoup4>=4.3.2 in /usr/local/lib/python3.8/dist-packages (from astroquery->astroNN) (4.6.3)\n",
            "Requirement already satisfied: webencodings in /usr/local/lib/python3.8/dist-packages (from html5lib>=0.999->astroquery->astroNN) (0.5.1)\n",
            "Requirement already satisfied: six>=1.9 in /usr/local/lib/python3.8/dist-packages (from html5lib>=0.999->astroquery->astroNN) (1.15.0)\n",
            "Collecting jeepney>=0.4.2\n",
            "  Downloading jeepney-0.8.0-py3-none-any.whl (48 kB)\n",
            "\u001b[K     |████████████████████████████████| 48 kB 6.3 MB/s \n",
            "\u001b[?25hCollecting jaraco.classes\n",
            "  Downloading jaraco.classes-3.2.3-py3-none-any.whl (6.0 kB)\n",
            "Collecting SecretStorage>=3.2\n",
            "  Downloading SecretStorage-3.3.3-py3-none-any.whl (15 kB)\n",
            "Requirement already satisfied: importlib-metadata>=4.11.4 in /usr/local/lib/python3.8/dist-packages (from keyring>=4.0->astroquery->astroNN) (4.13.0)\n",
            "Requirement already satisfied: zipp>=0.5 in /usr/local/lib/python3.8/dist-packages (from importlib-metadata>=4.11.4->keyring>=4.0->astroquery->astroNN) (3.10.0)\n",
            "Requirement already satisfied: idna<3,>=2.5 in /usr/local/lib/python3.8/dist-packages (from requests>=2.4.3->astroquery->astroNN) (2.10)\n",
            "Requirement already satisfied: urllib3!=1.25.0,!=1.25.1,<1.26,>=1.21.1 in /usr/local/lib/python3.8/dist-packages (from requests>=2.4.3->astroquery->astroNN) (1.24.3)\n",
            "Requirement already satisfied: certifi>=2017.4.17 in /usr/local/lib/python3.8/dist-packages (from requests>=2.4.3->astroquery->astroNN) (2022.9.24)\n",
            "Requirement already satisfied: chardet<4,>=3.0.2 in /usr/local/lib/python3.8/dist-packages (from requests>=2.4.3->astroquery->astroNN) (3.0.4)\n",
            "Collecting cryptography>=2.0\n",
            "  Downloading cryptography-38.0.4-cp36-abi3-manylinux_2_24_x86_64.whl (4.0 MB)\n",
            "\u001b[K     |████████████████████████████████| 4.0 MB 74.7 MB/s \n",
            "\u001b[?25hRequirement already satisfied: cffi>=1.12 in /usr/local/lib/python3.8/dist-packages (from cryptography>=2.0->SecretStorage>=3.2->keyring>=4.0->astroquery->astroNN) (1.15.1)\n",
            "Requirement already satisfied: pycparser in /usr/local/lib/python3.8/dist-packages (from cffi>=1.12->cryptography>=2.0->SecretStorage>=3.2->keyring>=4.0->astroquery->astroNN) (2.21)\n",
            "Requirement already satisfied: more-itertools in /usr/local/lib/python3.8/dist-packages (from jaraco.classes->keyring>=4.0->astroquery->astroNN) (9.0.0)\n",
            "Requirement already satisfied: cycler>=0.10 in /usr/local/lib/python3.8/dist-packages (from matplotlib->astroNN) (0.11.0)\n",
            "Requirement already satisfied: pyparsing!=2.0.4,!=2.1.2,!=2.1.6,>=2.0.1 in /usr/local/lib/python3.8/dist-packages (from matplotlib->astroNN) (3.0.9)\n",
            "Requirement already satisfied: kiwisolver>=1.0.1 in /usr/local/lib/python3.8/dist-packages (from matplotlib->astroNN) (1.4.4)\n",
            "Requirement already satisfied: python-dateutil>=2.1 in /usr/local/lib/python3.8/dist-packages (from matplotlib->astroNN) (2.8.2)\n",
            "Requirement already satisfied: pytz>=2017.3 in /usr/local/lib/python3.8/dist-packages (from pandas->astroNN) (2022.6)\n",
            "Requirement already satisfied: threadpoolctl>=2.0.0 in /usr/local/lib/python3.8/dist-packages (from scikit-learn->astroNN) (3.1.0)\n",
            "Requirement already satisfied: joblib>=0.11 in /usr/local/lib/python3.8/dist-packages (from scikit-learn->astroNN) (1.2.0)\n",
            "Requirement already satisfied: scipy>=1.1.0 in /usr/local/lib/python3.8/dist-packages (from scikit-learn->astroNN) (1.7.3)\n",
            "Building wheels for collected packages: astroNN\n",
            "  Building wheel for astroNN (setup.py) ... \u001b[?25l\u001b[?25hdone\n",
            "  Created wheel for astroNN: filename=astroNN-1.0.1-py3-none-any.whl size=9284593 sha256=907d70a22a2bf9091e7b6e8c79eae51855711d64f20130ea4ab86a38dc773ec7\n",
            "  Stored in directory: /root/.cache/pip/wheels/f2/b6/1f/222aea123a5de8a34c3dd95bb73dca35e342ef3901328e9db0\n",
            "Successfully built astroNN\n",
            "Installing collected packages: jeepney, cryptography, SecretStorage, jaraco.classes, pyvo, keyring, astroquery, astroNN\n",
            "Successfully installed SecretStorage-3.3.3 astroNN-1.0.1 astroquery-0.4.6 cryptography-38.0.4 jaraco.classes-3.2.3 jeepney-0.8.0 keyring-23.11.0 pyvo-1.4\n"
          ]
        }
      ],
      "source": [
        "!pip install astroNN"
      ]
    },
    {
      "cell_type": "code",
      "source": [
        "import keras\n",
        "from keras.models import Sequential\n",
        "from keras.layers import Dense, Dropout, Flatten\n",
        "from keras.layers import Conv2D, MaxPooling2D, BatchNormalization\n",
        "from keras.utils import to_categorical\n",
        "from keras.preprocessing import image\n",
        "import numpy as np\n",
        "import pandas as pd\n",
        "import matplotlib.pyplot as plt\n",
        "import matplotlib.image as mpimg\n",
        "from sklearn.model_selection import train_test_split\n",
        "from tqdm import tqdm\n",
        "from keras.models import Sequential\n",
        "from keras.layers import Dense, BatchNormalization, Flatten, Conv2D, MaxPool2D\n",
        "from keras.layers.core import Dropout\n",
        "import os\n",
        "from sklearn.metrics import confusion_matrix"
      ],
      "metadata": {
        "id": "bclYaemcZUHE"
      },
      "execution_count": 15,
      "outputs": []
    },
    {
      "cell_type": "code",
      "execution_count": 16,
      "metadata": {
        "id": "VgR1nRc_Zlyv"
      },
      "outputs": [],
      "source": [
        "#from astroNN.datasets import galaxy10\n",
        "#from astroNN.datasets.galaxy10 import galaxy10cls_lookup\n",
        "import keras\n",
        "from keras.models import Sequential\n",
        "from keras.layers import Dense, Dropout, Flatten\n",
        "from keras.layers import Conv2D, MaxPooling2D, BatchNormalization\n",
        "from keras.utils import to_categorical\n",
        "from keras.preprocessing import image\n",
        "import numpy as np\n",
        "import pandas as pd\n",
        "import tensorflow as tf\n",
        "import matplotlib.pyplot as plt\n",
        "import matplotlib.image as mpimg\n",
        "from sklearn.model_selection import train_test_split\n",
        "from tqdm import tqdm\n",
        "\n",
        "from sklearn.metrics import ConfusionMatrixDisplay\n",
        "from sklearn.metrics import confusion_matrix"
      ]
    },
    {
      "cell_type": "code",
      "source": [
        "# use this if you get SSL error on data download\n",
        "import ssl\n",
        "ssl._create_default_https_context = ssl._create_unverified_context"
      ],
      "metadata": {
        "id": "SUUs7tG2f1nk"
      },
      "execution_count": 17,
      "outputs": []
    },
    {
      "cell_type": "markdown",
      "metadata": {
        "id": "4szUs9NdcMrh"
      },
      "source": [
        "# **Setup Galaxy10**\n",
        "\n",
        "Code and dataset from https://astronn.readthedocs.io/en/latest/galaxy10.html"
      ]
    },
    {
      "cell_type": "code",
      "execution_count": 18,
      "metadata": {
        "id": "EpmnnQsIZ2IO"
      },
      "outputs": [],
      "source": [
        "# ---------------------------------------------------------#\n",
        "#   astroNN.datasets.galaxy10: galaxy10\n",
        "# ---------------------------------------------------------#\n",
        "\n",
        "import os\n",
        "import urllib.request\n",
        "\n",
        "import h5py\n",
        "import numpy as np\n",
        "\n",
        "from astroNN.config import astroNN_CACHE_DIR\n",
        "from astroNN.shared.downloader_tools import TqdmUpTo\n",
        "from astroNN.shared.downloader_tools import sha256_checksum\n",
        "\n",
        "Galaxy10Class = {0: \"Disk, Face-on, No Spiral\",\n",
        "                 1: \"Smooth, Completely round\",\n",
        "                 2: \"Smooth, in-between round\",\n",
        "                 3: \"Smooth, Cigar shaped\",\n",
        "                 4: \"Disk, Edge-on, Rounded Bulge\",\n",
        "                 5: \"Disk, Edge-on, Boxy Bulge\",\n",
        "                 6: \"Disk, Edge-on, No Bulge\",\n",
        "                 7: \"Disk, Face-on, Tight Spiral\",\n",
        "                 8: \"Disk, Face-on, Medium Spiral\",\n",
        "                 9: \"Disk, Face-on, Loose Spiral\"}\n",
        "\n",
        "_G10_ORIGIN = 'http://astro.utoronto.ca/~bovy/Galaxy10/'\n",
        "\n",
        "\n",
        "def load_data(flag=None):\n",
        "    \"\"\"\n",
        "    NAME:\n",
        "        load_data\n",
        "    PURPOSE:\n",
        "        load_data galaxy10 data\n",
        "    INPUT:\n",
        "        None\n",
        "    OUTPUT:\n",
        "        x (ndarray): An array of images\n",
        "        y (ndarray): An array of answer\n",
        "    HISTORY:\n",
        "        2018-Jan-22 - Written - Henry Leung (University of Toronto)\n",
        "    \"\"\"\n",
        "\n",
        "    filename = 'Galaxy10.h5'\n",
        "\n",
        "    complete_url = _G10_ORIGIN + filename\n",
        "\n",
        "    datadir = os.path.join(astroNN_CACHE_DIR, 'datasets')\n",
        "    file_hash = '969A6B1CEFCC36E09FFFA86FEBD2F699A4AA19B837BA0427F01B0BC6DED458AF'  # SHA256\n",
        "\n",
        "    # Notice python expect sha256 in lowercase\n",
        "\n",
        "    if not os.path.exists(datadir):\n",
        "        os.makedirs(datadir)\n",
        "    fullfilename = os.path.join(datadir, filename)\n",
        "\n",
        "    # Check if files exists\n",
        "    if os.path.isfile(fullfilename) and flag is None:\n",
        "        checksum = sha256_checksum(fullfilename)\n",
        "        if checksum != file_hash.lower():\n",
        "            print('File corruption detected, astroNN attempting to download again')\n",
        "            load_data(flag=1)\n",
        "        else:\n",
        "            print(fullfilename + ' was found!')\n",
        "    elif not os.path.isfile(fullfilename) or flag == 1:\n",
        "        with TqdmUpTo(unit='B', unit_scale=True, miniters=1, desc=complete_url.split('/')[-1]) as t:\n",
        "            urllib.request.urlretrieve(complete_url, fullfilename, reporthook=t.update_to)\n",
        "            print(f'Downloaded Galaxy10 successfully to {fullfilename}')\n",
        "            checksum = sha256_checksum(fullfilename)\n",
        "            if checksum != file_hash.lower():\n",
        "                load_data(flag=1)\n",
        "\n",
        "    with h5py.File(fullfilename, 'r') as F:\n",
        "        x = np.array(F['images'])\n",
        "        y = np.array(F['ans'])\n",
        "\n",
        "    return x, y\n",
        "\n",
        "\n",
        "def galaxy10cls_lookup(class_num):\n",
        "    \"\"\"\n",
        "    NAME:\n",
        "        galaxy10cls_lookup\n",
        "    PURPOSE:\n",
        "        look up class name for Galaxy10\n",
        "    INPUT:\n",
        "        class_num (int): An integer 0-9\n",
        "    OUTPUT:\n",
        "        (string): Name of the class\n",
        "    HISTORY:\n",
        "        2018-Feb-07 - Written - Henry Leung (University of Toronto)\n",
        "    \"\"\"\n",
        "    if isinstance(class_num, list) or isinstance(class_num, np.ndarray):\n",
        "        class_num = np.argmax(class_num)\n",
        "    if 0 > class_num or 9 < class_num:\n",
        "        raise ValueError(f'Galaxy10 only has 10 classes, you entered {class_num}')\n",
        "    return Galaxy10Class[class_num]\n",
        "\n",
        "\n",
        "def galaxy10_confusion(confusion_mat):\n",
        "    \"\"\"\n",
        "    NAME:\n",
        "        galaxy10_confusion\n",
        "    PURPOSE:\n",
        "        to plot confusion matrix\n",
        "    INPUT:\n",
        "        confusion_mat (ndarray): An integer 0-9\n",
        "    OUTPUT:\n",
        "        (string): Name of the class\n",
        "    HISTORY:\n",
        "        2018-Feb-11 - Written - Henry Leung (University of Toronto)\n",
        "    \"\"\"\n",
        "    import pylab as plt\n",
        "\n",
        "    conf_arr = confusion_mat.astype(int)\n",
        "\n",
        "    norm_conf = []\n",
        "    a = np.max(conf_arr)\n",
        "    for i in conf_arr:\n",
        "        tmp_arr = []\n",
        "        for j in i:\n",
        "            tmp_arr.append(float(j) / float(a))\n",
        "        norm_conf.append(tmp_arr)\n",
        "\n",
        "    fig, ax = plt.subplots(1, figsize=(10, 10.5), dpi=100)\n",
        "    fig.suptitle(\"Confusion Matrix for Galaxy10 trained by astroNN\", fontsize=18)\n",
        "    ax.set_aspect(1)\n",
        "    ax.imshow(np.array(norm_conf), cmap=plt.get_cmap('Blues'), interpolation='nearest')\n",
        "\n",
        "    width, height = conf_arr.shape\n",
        "\n",
        "    for x in range(width):\n",
        "        for y in range(height):\n",
        "            ax.annotate(str(conf_arr[x][y]), xy=(y, x),\n",
        "                        horizontalalignment='center',\n",
        "                        verticalalignment='center')\n",
        "\n",
        "    alphabet = '0123456789'\n",
        "    plt.xticks(range(width), alphabet[:width], fontsize=20)\n",
        "    plt.yticks(range(height), alphabet[:height], fontsize=20)\n",
        "    ax.set_ylabel('Prediction class by astroNN', fontsize=18)\n",
        "    ax.set_xlabel('True class', fontsize=18)\n",
        "    fig.tight_layout(rect=[0, 0.00, 0.8, 0.96])\n",
        "    fig.show()\n",
        "\n",
        "    return None\n",
        "\n",
        "\n",
        "#----------------------------------------#\n",
        "#----------------------------------------#\n",
        "#----------------------------------------#"
      ]
    },
    {
      "cell_type": "markdown",
      "metadata": {
        "id": "6Omdxb-8ce8G"
      },
      "source": [
        "# **Load images, labels**"
      ]
    },
    {
      "cell_type": "code",
      "execution_count": 19,
      "metadata": {
        "colab": {
          "base_uri": "https://localhost:8080/"
        },
        "id": "ygYgN22aZ6cV",
        "outputId": "d16f6094-2b20-4d3f-f7e3-351a40d09a76"
      },
      "outputs": [
        {
          "output_type": "stream",
          "name": "stderr",
          "text": [
            "Galaxy10.h5:  99%|█████████▉| 208M/210M [00:19<00:00, 13.6MB/s]"
          ]
        },
        {
          "output_type": "stream",
          "name": "stdout",
          "text": [
            "Downloaded Galaxy10 successfully to /root/.astroNN/datasets/Galaxy10.h5\n"
          ]
        },
        {
          "output_type": "stream",
          "name": "stderr",
          "text": [
            "\rGalaxy10.h5: 210MB [00:19, 10.6MB/s]                           \n"
          ]
        },
        {
          "output_type": "stream",
          "name": "stdout",
          "text": [
            "l shape before = (21785,)\n",
            "[2 2 4 ... 2 9 2]\n"
          ]
        }
      ],
      "source": [
        "images, labels = load_data()\n",
        "print('l shape before =', labels.shape)\n",
        "print(labels)"
      ]
    },
    {
      "cell_type": "code",
      "execution_count": 20,
      "metadata": {
        "colab": {
          "base_uri": "https://localhost:8080/"
        },
        "id": "bcUCv_NUZ8mt",
        "outputId": "98dcab71-ce8a-4547-a0ba-ee003dd443d5"
      },
      "outputs": [
        {
          "output_type": "stream",
          "name": "stdout",
          "text": [
            "label shape before = (21785,)\n",
            "l shape after = (21785, 10)\n",
            "i shape before = (21785, 69, 69, 3)\n",
            "i shape after = (21785, 69, 69, 3)\n"
          ]
        }
      ],
      "source": [
        "labels = labels.astype(np.float32)\n",
        "print('label shape before =', labels.shape)\n",
        "labels = tf.keras.utils.to_categorical(labels)\n",
        "print('l shape after =', labels.shape)\n",
        "images = images.astype(np.float32)\n",
        "print('i shape before =', images.shape)\n",
        "images = images/255\n",
        "print('i shape after =', images.shape)"
      ]
    },
    {
      "cell_type": "markdown",
      "metadata": {
        "id": "ceOEr7AvclKD"
      },
      "source": [
        "# **Condense Classes**\n",
        "The galaxy10 playlist natively has 10 classes but we can condense this into 3 or 4"
      ]
    },
    {
      "cell_type": "code",
      "execution_count": 21,
      "metadata": {
        "colab": {
          "base_uri": "https://localhost:8080/"
        },
        "id": "PCTCIxN8avrI",
        "outputId": "9c220835-2208-4d03-b48c-29aa8ad7740a"
      },
      "outputs": [
        {
          "output_type": "stream",
          "name": "stdout",
          "text": [
            "[[1. 0. 0.]\n",
            " [1. 0. 0.]\n",
            " [0. 1. 0.]\n",
            " [1. 0. 0.]\n",
            " [0. 1. 0.]\n",
            " [1. 0. 0.]\n",
            " [1. 0. 0.]\n",
            " [1. 0. 0.]\n",
            " [1. 0. 0.]\n",
            " [0. 0. 1.]]\n",
            "(21785, 10) (21785, 3)\n"
          ]
        }
      ],
      "source": [
        "if num_class == 4:\n",
        "  #This takes the old labels with 10 classes and turns it into 4\n",
        "  elliptical = [1,2,3]\n",
        "  lenticular = [4,5,6]\n",
        "  spiral = [7,8,9]\n",
        "  irregular = [0]\n",
        "  name = [0,1,2,3]\n",
        "\n",
        "  def change_class4(lable):\n",
        "      label_num_pos = int(np.where(lable==1)[0])\n",
        "      if label_num_pos in elliptical:\n",
        "          new_name = np.array([1.,0.,0.,0.])\n",
        "      if label_num_pos in lenticular:\n",
        "          new_name = np.array([0.,1.,0.,0.])\n",
        "      if label_num_pos in spiral:\n",
        "          new_name = np.array([0.,0.,1.,0.])\n",
        "      if label_num_pos in irregular:\n",
        "          new_name = np.array([0.,0.,0.,1.])\n",
        "      return new_name\n",
        "  new_labels = np.array([change_class4(labels[i]) for i in range(len(labels))])\n",
        "\n",
        "elif num_class == 3:\n",
        "  #This takes the old labels with 10 classes and turns it into 3\n",
        "  elliptical = [1,2,3]\n",
        "  lenticular = [4,5,6]\n",
        "  spiral = [7,8,9,0]\n",
        "  name = [0,1,2]\n",
        "\n",
        "  def change_class3(lable):\n",
        "      label_num_pos = int(np.where(lable==1)[0])\n",
        "      if label_num_pos in elliptical:\n",
        "          new_name = np.array([1.,0.,0.])\n",
        "      if label_num_pos in lenticular:\n",
        "          new_name = np.array([0.,1.,0.])\n",
        "      if label_num_pos in spiral:\n",
        "          new_name = np.array([0.,0.,1.])\n",
        "      return new_name\n",
        "\n",
        "  new_labels = np.array([change_class3(labels[i]) for i in range(len(labels))])\n",
        "\n",
        "print(new_labels[:10])\n",
        "print(labels.shape, new_labels.shape)"
      ]
    },
    {
      "cell_type": "code",
      "source": [
        "# only take one layer (we can think which one is best, i can just run all 3), first one is g band i think\n",
        "# only select one filter\n",
        "images = images[:,:,:,0]\n",
        "print(images.shape)\n"
      ],
      "metadata": {
        "colab": {
          "base_uri": "https://localhost:8080/"
        },
        "id": "8C_WCsqQ8hiy",
        "outputId": "80d3376a-1492-4734-f6bd-403aa6738304"
      },
      "execution_count": 22,
      "outputs": [
        {
          "output_type": "stream",
          "name": "stdout",
          "text": [
            "(21785, 69, 69)\n"
          ]
        }
      ]
    },
    {
      "cell_type": "markdown",
      "metadata": {
        "id": "UJsdgYNJcp-1"
      },
      "source": [
        "# **Number of images in each label**"
      ]
    },
    {
      "cell_type": "code",
      "execution_count": 23,
      "metadata": {
        "colab": {
          "base_uri": "https://localhost:8080/"
        },
        "id": "RFDeee1xaxp_",
        "outputId": "dedcf882-ecdb-4c20-d24a-c3a82d119f87"
      },
      "outputs": [
        {
          "output_type": "stream",
          "name": "stdout",
          "text": [
            "[13638, 2140, 6007]\n"
          ]
        }
      ],
      "source": [
        "#This shows the amount in each label\n",
        "label_categor_nums = [int(np.where(new_labels[i]==1)[0]) for i in range(len(new_labels))]\n",
        "#print(label_categor_nums[:15])\n",
        "\n",
        "name_occur = [label_categor_nums.count(name[i]) for i in range(len(name))]\n",
        "print(name_occur)"
      ]
    },
    {
      "cell_type": "markdown",
      "metadata": {
        "id": "YOP72hhRc07n"
      },
      "source": [
        "# **Data split: train, test**"
      ]
    },
    {
      "cell_type": "code",
      "execution_count": 24,
      "metadata": {
        "colab": {
          "base_uri": "https://localhost:8080/"
        },
        "id": "7TNTQ_-LayD5",
        "outputId": "8c361368-d2c3-4b42-8eb5-51642eaa2c51"
      },
      "outputs": [
        {
          "output_type": "stream",
          "name": "stdout",
          "text": [
            "(18517, 69, 69)\n",
            "(18517, 3)\n"
          ]
        }
      ],
      "source": [
        "X_train, X_test, y_train, y_test = train_test_split(images, new_labels, test_size = test_split)\n",
        "print(X_train.shape)\n",
        "print(y_train.shape)"
      ]
    },
    {
      "cell_type": "markdown",
      "metadata": {
        "id": "PhZErwZmc68l"
      },
      "source": [
        "# **CNN Models**"
      ]
    },
    {
      "cell_type": "code",
      "source": [
        "def C1(input_shape, unique_labels=num_class, dropout_rate=0.5):\n",
        "    '''\n",
        "    Defines the 2D Convolutional Neural Network (CNN) called C1\n",
        "    Parameters:    \n",
        "    \n",
        "        input_shape (arr): input shape for network\n",
        "        unique_labels (int): number unique labels \n",
        "        dropout_rate (float): dropout rate as fraction\n",
        "\n",
        "    Returns:\n",
        "        \n",
        "        model (keras model class): CNN to train\n",
        "    '''\n",
        "\n",
        "    model = Sequential()\n",
        "\n",
        "    model.add(Conv2D(filters=32, input_shape=input_shape, activation='relu', kernel_size=(5,5)))\n",
        "    model.add(Conv2D(filters=64, input_shape=input_shape, activation='relu', kernel_size=(5,5)))\n",
        "    model.add(MaxPool2D(pool_size=(2, 2)))\n",
        "\n",
        "    model.add(Flatten())\n",
        "    model.add(Dropout(dropout_rate))\n",
        "    model.add(Dense(256, activation='relu'))\n",
        "    model.add(Dense(unique_labels, activation='softmax')) \n",
        "\n",
        "    return model"
      ],
      "metadata": {
        "id": "ndCEcEONZNBn"
      },
      "execution_count": 25,
      "outputs": []
    },
    {
      "cell_type": "code",
      "source": [
        "def C2(input_shape, unique_labels=num_class, dropout_rate=0.5):\n",
        "    '''\n",
        "    Defines the 2D Convolutional Neural Network (CNN) called C2\n",
        "    Parameters:    \n",
        "    \n",
        "        input_shape (arr): input shape for network\n",
        "        unique_labels (int): number unique labels \n",
        "        dropout_rate (float): dropout rate as fraction\n",
        "\n",
        "    Returns:\n",
        "        \n",
        "        model (keras model class): CNN to train\n",
        "    '''\n",
        "    \n",
        "    model = Sequential()\n",
        "\n",
        "    model.add(Conv2D(filters=32, input_shape=input_shape, activation='relu', kernel_size=(7,7)))\n",
        "    model.add(BatchNormalization())\n",
        "    model.add(MaxPool2D(pool_size=(2,2)))\n",
        "\n",
        "    model.add(Conv2D(filters=64, input_shape=input_shape, activation='relu', kernel_size=(5,5)))\n",
        "    model.add(Conv2D(filters=64, input_shape=input_shape, activation='relu', kernel_size=(5,5)))\n",
        "    model.add(BatchNormalization())\n",
        "    model.add(MaxPool2D(pool_size=(2,2)))\n",
        "\n",
        "    model.add(Conv2D(filters=128, input_shape=input_shape, activation='relu', kernel_size=(3,3)))\n",
        "    model.add(BatchNormalization())\n",
        "    model.add(MaxPool2D(pool_size=(2,2)))\n",
        "\n",
        "    model.add(Flatten())\n",
        "    model.add(Dropout(dropout_rate))\n",
        "    model.add(Dense(256, activation='relu'))\n",
        "    model.add(Dense(256, activation='relu'))\n",
        "\n",
        "    model.add(Dense(unique_labels, activation='softmax')) \n",
        "\n",
        "    return model"
      ],
      "metadata": {
        "id": "Xh7l58QoZM0x"
      },
      "execution_count": 26,
      "outputs": []
    },
    {
      "cell_type": "markdown",
      "metadata": {
        "id": "gR9rpirxc-jW"
      },
      "source": [
        "# **Begin Training**"
      ]
    },
    {
      "cell_type": "code",
      "source": [
        "# define hyperparameters of training\n",
        "if run_C1:\n",
        "  n_epochs = 13\n",
        "  # can't find learning rate mentioned so I'm leaving it as default for now\n",
        "  \n",
        "  ###opt = keras.optimizers.Adadelta()\n",
        "  ### using adam stuff temporarily\n",
        "  lr = 2*pow(10,-4)\n",
        "  opt = keras.optimizers.Adam(learning_rate=lr) # try just using this learning rate\n",
        "  \n",
        "  c1_model = C1(input_shape)\n",
        "\n",
        "  # show model architecture\n",
        "  c1_model.summary()\n",
        "\n",
        "  c1_model.compile(loss='categorical_crossentropy', optimizer=opt, metrics=['accuracy'])\n",
        "  c1_classifier = c1_model.fit(X_train, y_train, epochs=n_epochs, validation_split=valid_split)  "
      ],
      "metadata": {
        "colab": {
          "base_uri": "https://localhost:8080/"
        },
        "id": "CgVRZfzBaVDG",
        "outputId": "059cc54d-c48d-46d3-fa78-271f2e45e6db"
      },
      "execution_count": 42,
      "outputs": [
        {
          "output_type": "stream",
          "name": "stdout",
          "text": [
            "Model: \"sequential_2\"\n",
            "_________________________________________________________________\n",
            " Layer (type)                Output Shape              Param #   \n",
            "=================================================================\n",
            " conv2d_6 (Conv2D)           (None, 65, 65, 32)        832       \n",
            "                                                                 \n",
            " conv2d_7 (Conv2D)           (None, 61, 61, 64)        51264     \n",
            "                                                                 \n",
            " max_pooling2d_4 (MaxPooling  (None, 30, 30, 64)       0         \n",
            " 2D)                                                             \n",
            "                                                                 \n",
            " flatten_2 (Flatten)         (None, 57600)             0         \n",
            "                                                                 \n",
            " dropout_2 (Dropout)         (None, 57600)             0         \n",
            "                                                                 \n",
            " dense_5 (Dense)             (None, 256)               14745856  \n",
            "                                                                 \n",
            " dense_6 (Dense)             (None, 3)                 771       \n",
            "                                                                 \n",
            "=================================================================\n",
            "Total params: 14,798,723\n",
            "Trainable params: 14,798,723\n",
            "Non-trainable params: 0\n",
            "_________________________________________________________________\n",
            "Epoch 1/13\n",
            "492/492 [==============================] - 9s 17ms/step - loss: 0.5884 - accuracy: 0.7436 - val_loss: 0.5011 - val_accuracy: 0.7912\n",
            "Epoch 2/13\n",
            "492/492 [==============================] - 8s 16ms/step - loss: 0.4775 - accuracy: 0.7942 - val_loss: 0.4576 - val_accuracy: 0.8107\n",
            "Epoch 3/13\n",
            "492/492 [==============================] - 8s 16ms/step - loss: 0.4333 - accuracy: 0.8213 - val_loss: 0.4170 - val_accuracy: 0.8333\n",
            "Epoch 4/13\n",
            "492/492 [==============================] - 8s 17ms/step - loss: 0.3927 - accuracy: 0.8418 - val_loss: 0.3804 - val_accuracy: 0.8456\n",
            "Epoch 5/13\n",
            "492/492 [==============================] - 8s 16ms/step - loss: 0.3584 - accuracy: 0.8568 - val_loss: 0.4118 - val_accuracy: 0.8305\n",
            "Epoch 6/13\n",
            "492/492 [==============================] - 8s 16ms/step - loss: 0.3269 - accuracy: 0.8691 - val_loss: 0.3653 - val_accuracy: 0.8575\n",
            "Epoch 7/13\n",
            "492/492 [==============================] - 8s 16ms/step - loss: 0.3033 - accuracy: 0.8814 - val_loss: 0.3858 - val_accuracy: 0.8488\n",
            "Epoch 8/13\n",
            "492/492 [==============================] - 8s 16ms/step - loss: 0.2770 - accuracy: 0.8924 - val_loss: 0.3919 - val_accuracy: 0.8477\n",
            "Epoch 9/13\n",
            "492/492 [==============================] - 8s 16ms/step - loss: 0.2609 - accuracy: 0.9009 - val_loss: 0.3554 - val_accuracy: 0.8697\n",
            "Epoch 10/13\n",
            "492/492 [==============================] - 8s 16ms/step - loss: 0.2363 - accuracy: 0.9094 - val_loss: 0.3613 - val_accuracy: 0.8585\n",
            "Epoch 11/13\n",
            "492/492 [==============================] - 8s 16ms/step - loss: 0.2145 - accuracy: 0.9181 - val_loss: 0.3583 - val_accuracy: 0.8614\n",
            "Epoch 12/13\n",
            "492/492 [==============================] - 8s 17ms/step - loss: 0.1904 - accuracy: 0.9292 - val_loss: 0.3810 - val_accuracy: 0.8683\n",
            "Epoch 13/13\n",
            "492/492 [==============================] - 8s 16ms/step - loss: 0.1753 - accuracy: 0.9337 - val_loss: 0.4158 - val_accuracy: 0.8614\n"
          ]
        }
      ]
    },
    {
      "cell_type": "markdown",
      "source": [
        "c1 still not learning well, need to look into it"
      ],
      "metadata": {
        "id": "EjYTtX2tgxGX"
      }
    },
    {
      "cell_type": "code",
      "source": [
        "if run_C2:\n",
        "  n_epochs = 20\n",
        "  lr = 2*pow(10,-4)\n",
        "  opt = keras.optimizers.Adam(learning_rate=lr)\n",
        "  c2_model = C2(input_shape)\n",
        "  # show model architecture\n",
        "  c2_model.summary()\n",
        "\n",
        "  c2_model.compile(loss='categorical_crossentropy', optimizer=opt, metrics=['accuracy'])\n",
        "  c2_classifier = c2_model.fit(X_train, y_train, epochs=n_epochs, validation_split=valid_split)  "
      ],
      "metadata": {
        "colab": {
          "base_uri": "https://localhost:8080/"
        },
        "id": "MqFMcQ4aaU-a",
        "outputId": "c222f5a4-286e-4243-e7dd-177a5493e507"
      },
      "execution_count": 28,
      "outputs": [
        {
          "output_type": "stream",
          "name": "stdout",
          "text": [
            "Model: \"sequential_1\"\n",
            "_________________________________________________________________\n",
            " Layer (type)                Output Shape              Param #   \n",
            "=================================================================\n",
            " conv2d_2 (Conv2D)           (None, 63, 63, 32)        1600      \n",
            "                                                                 \n",
            " batch_normalization (BatchN  (None, 63, 63, 32)       128       \n",
            " ormalization)                                                   \n",
            "                                                                 \n",
            " max_pooling2d_1 (MaxPooling  (None, 31, 31, 32)       0         \n",
            " 2D)                                                             \n",
            "                                                                 \n",
            " conv2d_3 (Conv2D)           (None, 27, 27, 64)        51264     \n",
            "                                                                 \n",
            " conv2d_4 (Conv2D)           (None, 23, 23, 64)        102464    \n",
            "                                                                 \n",
            " batch_normalization_1 (Batc  (None, 23, 23, 64)       256       \n",
            " hNormalization)                                                 \n",
            "                                                                 \n",
            " max_pooling2d_2 (MaxPooling  (None, 11, 11, 64)       0         \n",
            " 2D)                                                             \n",
            "                                                                 \n",
            " conv2d_5 (Conv2D)           (None, 9, 9, 128)         73856     \n",
            "                                                                 \n",
            " batch_normalization_2 (Batc  (None, 9, 9, 128)        512       \n",
            " hNormalization)                                                 \n",
            "                                                                 \n",
            " max_pooling2d_3 (MaxPooling  (None, 4, 4, 128)        0         \n",
            " 2D)                                                             \n",
            "                                                                 \n",
            " flatten_1 (Flatten)         (None, 2048)              0         \n",
            "                                                                 \n",
            " dropout_1 (Dropout)         (None, 2048)              0         \n",
            "                                                                 \n",
            " dense_2 (Dense)             (None, 256)               524544    \n",
            "                                                                 \n",
            " dense_3 (Dense)             (None, 256)               65792     \n",
            "                                                                 \n",
            " dense_4 (Dense)             (None, 3)                 771       \n",
            "                                                                 \n",
            "=================================================================\n",
            "Total params: 821,187\n",
            "Trainable params: 820,739\n",
            "Non-trainable params: 448\n",
            "_________________________________________________________________\n",
            "Epoch 1/20\n",
            "492/492 [==============================] - 6s 11ms/step - loss: 0.5787 - accuracy: 0.7563 - val_loss: 0.9182 - val_accuracy: 0.6501\n",
            "Epoch 2/20\n",
            "492/492 [==============================] - 5s 10ms/step - loss: 0.4765 - accuracy: 0.8069 - val_loss: 0.4998 - val_accuracy: 0.7729\n",
            "Epoch 3/20\n",
            "492/492 [==============================] - 5s 10ms/step - loss: 0.4245 - accuracy: 0.8315 - val_loss: 0.5119 - val_accuracy: 0.7887\n",
            "Epoch 4/20\n",
            "492/492 [==============================] - 5s 10ms/step - loss: 0.3864 - accuracy: 0.8485 - val_loss: 0.3696 - val_accuracy: 0.8603\n",
            "Epoch 5/20\n",
            "492/492 [==============================] - 5s 10ms/step - loss: 0.3582 - accuracy: 0.8633 - val_loss: 0.3534 - val_accuracy: 0.8603\n",
            "Epoch 6/20\n",
            "492/492 [==============================] - 5s 10ms/step - loss: 0.3360 - accuracy: 0.8746 - val_loss: 0.4260 - val_accuracy: 0.8326\n",
            "Epoch 7/20\n",
            "492/492 [==============================] - 5s 10ms/step - loss: 0.3149 - accuracy: 0.8811 - val_loss: 0.3668 - val_accuracy: 0.8693\n",
            "Epoch 8/20\n",
            "492/492 [==============================] - 5s 10ms/step - loss: 0.3081 - accuracy: 0.8819 - val_loss: 0.4331 - val_accuracy: 0.8395\n",
            "Epoch 9/20\n",
            "492/492 [==============================] - 5s 10ms/step - loss: 0.2911 - accuracy: 0.8920 - val_loss: 0.3279 - val_accuracy: 0.8812\n",
            "Epoch 10/20\n",
            "492/492 [==============================] - 5s 10ms/step - loss: 0.2875 - accuracy: 0.8934 - val_loss: 0.3744 - val_accuracy: 0.8557\n",
            "Epoch 11/20\n",
            "492/492 [==============================] - 5s 10ms/step - loss: 0.2737 - accuracy: 0.8975 - val_loss: 0.3406 - val_accuracy: 0.8675\n",
            "Epoch 12/20\n",
            "492/492 [==============================] - 5s 10ms/step - loss: 0.2687 - accuracy: 0.8991 - val_loss: 0.3554 - val_accuracy: 0.8603\n",
            "Epoch 13/20\n",
            "492/492 [==============================] - 5s 10ms/step - loss: 0.2579 - accuracy: 0.9029 - val_loss: 0.2911 - val_accuracy: 0.8891\n",
            "Epoch 14/20\n",
            "492/492 [==============================] - 5s 11ms/step - loss: 0.2524 - accuracy: 0.9054 - val_loss: 0.2980 - val_accuracy: 0.8902\n",
            "Epoch 15/20\n",
            "492/492 [==============================] - 6s 11ms/step - loss: 0.2442 - accuracy: 0.9077 - val_loss: 0.4727 - val_accuracy: 0.8301\n",
            "Epoch 16/20\n",
            "492/492 [==============================] - 5s 10ms/step - loss: 0.2333 - accuracy: 0.9135 - val_loss: 0.3273 - val_accuracy: 0.8880\n",
            "Epoch 17/20\n",
            "492/492 [==============================] - 5s 10ms/step - loss: 0.2239 - accuracy: 0.9145 - val_loss: 0.3167 - val_accuracy: 0.8841\n",
            "Epoch 18/20\n",
            "492/492 [==============================] - 5s 10ms/step - loss: 0.2177 - accuracy: 0.9169 - val_loss: 0.2934 - val_accuracy: 0.8963\n",
            "Epoch 19/20\n",
            "492/492 [==============================] - 5s 10ms/step - loss: 0.2061 - accuracy: 0.9199 - val_loss: 0.3112 - val_accuracy: 0.8952\n",
            "Epoch 20/20\n",
            "492/492 [==============================] - 5s 10ms/step - loss: 0.1931 - accuracy: 0.9257 - val_loss: 0.3381 - val_accuracy: 0.8862\n"
          ]
        }
      ]
    },
    {
      "cell_type": "code",
      "source": [
        "#^ make above a function to be able to run in loop for 3/4 way too (a run all vs just one mode)"
      ],
      "metadata": {
        "id": "FlD0Szy2fBjv"
      },
      "execution_count": 29,
      "outputs": []
    },
    {
      "cell_type": "markdown",
      "metadata": {
        "id": "Z-AFK9r9bnU3"
      },
      "source": [
        "# **Save the model (optional)**"
      ]
    },
    {
      "cell_type": "code",
      "execution_count": 30,
      "metadata": {
        "id": "9T4IeWwwa_tV"
      },
      "outputs": [],
      "source": [
        "# import pandas\n",
        "# from sklearn import model_selection\n",
        "# from sklearn.linear_model import LogisticRegression\n",
        "# import pickle\n",
        "# # save the model to disk\n",
        "# keras_c2_galaxy10_4cl = 'keras_c2_galaxy10_4cl.sav'\n",
        "# pickle.dump(model, open(keras_c2_galaxy10_4cl, 'wb'))"
      ]
    },
    {
      "cell_type": "markdown",
      "metadata": {
        "id": "l0WvKUU9bsWz"
      },
      "source": [
        "# **Plot Training & Validation Loss, Accuracy**\n",
        "Trying to get a plot that looks like yours"
      ]
    },
    {
      "cell_type": "code",
      "source": [
        "# plot accuracy/loss versus epoch\n",
        "fig, axs = plt.subplots(2, 2, sharex=True, figsize=(15, 10))\n",
        "axs[0, 0].plot(c1_classifier.history['accuracy'], '--', color='darkred')\n",
        "axs[0, 0].plot(c2_classifier.history['accuracy'], '--', color='gold')\n",
        "axs[0, 0].plot(c1_classifier.history['val_accuracy'], label='C1', color='darkred')\n",
        "axs[0, 0].plot(c2_classifier.history['val_accuracy'], label='C2', color='gold')\n",
        "#axs[0, 0].set_title('Axis [0, 0]')\n",
        "axs[0, 0].set_ylabel('Accuracy')\n",
        "axs[0, 0].legend()\n",
        "axs[0, 1].plot(c1_classifier.history['loss'], '--', color='darkred')\n",
        "axs[0, 1].plot(c2_classifier.history['loss'], '--', color='gold')\n",
        "axs[0, 1].plot(c1_classifier.history['val_loss'], label='C1', color='darkred')\n",
        "axs[0, 1].plot(c2_classifier.history['val_loss'], label='C2', color='gold')\n",
        "#axs[0, 1].set_title('Axis [0, 1]')\n",
        "axs[0, 1].set_ylabel('Loss')\n",
        "axs[1, 0].plot()\n",
        "#axs[1, 0].set_title('Axis [1, 0]')\n",
        "axs[1, 0].set_xlabel('Epoch')\n",
        "axs[1, 0].set_ylabel('Accuracy')\n",
        "axs[1, 1].plot()\n",
        "#axs[1, 1].set_title('Axis [1, 1]')\n",
        "axs[1, 1].set_xlabel('Epoch')\n",
        "axs[1, 1].set_ylabel('Loss')"
      ],
      "metadata": {
        "colab": {
          "base_uri": "https://localhost:8080/",
          "height": 624
        },
        "id": "zgViRkjac3fP",
        "outputId": "cd4e4c5d-6e57-4132-fefe-340a9f8b3b2a"
      },
      "execution_count": 43,
      "outputs": [
        {
          "output_type": "execute_result",
          "data": {
            "text/plain": [
              "Text(0, 0.5, 'Loss')"
            ]
          },
          "metadata": {},
          "execution_count": 43
        },
        {
          "output_type": "display_data",
          "data": {
            "text/plain": [
              "<Figure size 1080x720 with 4 Axes>"
            ],
            "image/png": "[encoded data removed]"
          },
          "metadata": {
            "needs_background": "light"
          }
        }
      ]
    },
    {
      "cell_type": "markdown",
      "source": [
        "ik this colour is ugly but I'm just trying to make it resemble what they have"
      ],
      "metadata": {
        "id": "FnAkYbwwihZ5"
      }
    },
    {
      "cell_type": "code",
      "execution_count": null,
      "metadata": {
        "id": "ULxF_vxGbH9z"
      },
      "outputs": [],
      "source": [
        "plt.plot(model.history.history['loss'],color='b',\n",
        "label='Training Loss')\n",
        "plt.plot(model.history.history['val_loss'],color='r',\n",
        "label='Validation Loss')\n",
        "plt.legend()\n",
        "plt.show()\n",
        "\n",
        "label='Training  Accuracy')\n",
        "plt.plot(model.history.history['val_accuracy'],color='r',\n",
        "label='Validation Accuracy')\n",
        "plt.legend()\n",
        "plt.show()"
      ]
    },
    {
      "cell_type": "markdown",
      "metadata": {
        "id": "jY_mWLuCb6kn"
      },
      "source": [
        "# **Confusion Matrix**"
      ]
    },
    {
      "cell_type": "code",
      "execution_count": null,
      "metadata": {
        "id": "XSxCFUSDbJ0a"
      },
      "outputs": [],
      "source": [
        "from pylab import rcParams\n",
        "rcParams['figure.figsize'] = 10, 10\n",
        "\n",
        "\n",
        "predictions = model.predict(X_test)\n",
        "predictions = (predictions > 0.5) \n",
        "labels = [\"elliptical\", \"lenticular\", \"spiral\", \"irregular\"]\n",
        "\n",
        "cm = confusion_matrix(y_test.argmax(axis=1), predictions.argmax(axis=1))\n",
        "disp = ConfusionMatrixDisplay(confusion_matrix=cm, display_labels=labels)\n",
        "disp.plot(cmap=plt.cm.Blues)\n",
        "plt.show()"
      ]
    }
  ],
  "metadata": {
    "colab": {
      "provenance": [],
      "machine_shape": "hm"
    },
    "kernelspec": {
      "display_name": "Python 3",
      "name": "python3"
    },
    "language_info": {
      "name": "python"
    },
    "accelerator": "GPU",
    "gpuClass": "standard"
  },
  "nbformat": 4,
  "nbformat_minor": 0
}