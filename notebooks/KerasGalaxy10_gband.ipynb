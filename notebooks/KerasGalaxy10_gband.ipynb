{
  "cells": [
    {
      "cell_type": "markdown",
      "source": [
        "# **PHYS 449: Final Project Notebook**\n",
        "#### Reproducing results from \"Morphological classification of galaxies with deep learning: comparing 3-way and 4-way CNNs\" by Mitchell K. Cavanagh, Kenji Bekki and Brent A. Groves\n",
        "\n",
        "Using galax10 dataset, specifically the g-band filter and keras"
      ],
      "metadata": {
        "id": "SP6Lin_YWwBf"
      }
    },
    {
      "cell_type": "markdown",
      "source": [
        "# **Settings for Run**\n"
      ],
      "metadata": {
        "id": "fl4sV7bkW1Sj"
      }
    },
    {
      "cell_type": "code",
      "source": [
        "# can set both to true\n",
        "run_C1 = True \n",
        "run_C2 = True\n",
        "\n",
        "# can only be 3 or 4\n",
        "num_class = 4"
      ],
      "metadata": {
        "id": "ELJbHACxW8fn"
      },
      "execution_count": 120,
      "outputs": []
    },
    {
      "cell_type": "code",
      "source": [
        "# train, test, validation splits\n",
        "train_split = 0.85\n",
        "valid_split = 0.15\n",
        "test_split = 0.15 # do shuffle to get this"
      ],
      "metadata": {
        "id": "NDRY2cGNZwBo"
      },
      "execution_count": 121,
      "outputs": []
    },
    {
      "cell_type": "code",
      "source": [
        "input_shape = (69,69,1) # images of 69x69"
      ],
      "metadata": {
        "id": "gkjZmKuXbMue"
      },
      "execution_count": 122,
      "outputs": []
    },
    {
      "cell_type": "markdown",
      "metadata": {
        "id": "MwiYuuw1bYJx"
      },
      "source": [
        "# **Imports**"
      ]
    },
    {
      "cell_type": "code",
      "execution_count": 123,
      "metadata": {
        "id": "2aGGy5zLcBb-"
      },
      "outputs": [],
      "source": [
        "#!pip install astroNN"
      ]
    },
    {
      "cell_type": "code",
      "source": [
        "import keras\n",
        "from keras.models import Sequential\n",
        "from keras.layers import Dense, Dropout, Flatten\n",
        "from keras.layers import Conv2D, MaxPooling2D, BatchNormalization\n",
        "from keras.utils import to_categorical\n",
        "from keras.preprocessing import image\n",
        "import numpy as np\n",
        "import pandas as pd\n",
        "import matplotlib.pyplot as plt\n",
        "import matplotlib.image as mpimg\n",
        "from sklearn.model_selection import train_test_split\n",
        "from tqdm import tqdm\n",
        "from keras.models import Sequential\n",
        "from keras.layers import Dense, BatchNormalization, Flatten, Conv2D, MaxPool2D\n",
        "from keras.layers.core import Dropout\n",
        "import os\n",
        "from sklearn.metrics import confusion_matrix"
      ],
      "metadata": {
        "id": "bclYaemcZUHE"
      },
      "execution_count": 124,
      "outputs": []
    },
    {
      "cell_type": "code",
      "execution_count": 125,
      "metadata": {
        "id": "VgR1nRc_Zlyv"
      },
      "outputs": [],
      "source": [
        "#from astroNN.datasets import galaxy10\n",
        "#from astroNN.datasets.galaxy10 import galaxy10cls_lookup\n",
        "import keras\n",
        "from keras.models import Sequential\n",
        "from keras.layers import Dense, Dropout, Flatten\n",
        "from keras.layers import Conv2D, MaxPooling2D, BatchNormalization\n",
        "from keras.utils import to_categorical\n",
        "from keras.preprocessing import image\n",
        "import numpy as np\n",
        "import pandas as pd\n",
        "import tensorflow as tf\n",
        "import matplotlib.pyplot as plt\n",
        "import matplotlib.image as mpimg\n",
        "from sklearn.model_selection import train_test_split\n",
        "from tqdm import tqdm\n",
        "\n",
        "from sklearn.metrics import ConfusionMatrixDisplay\n",
        "from sklearn.metrics import confusion_matrix"
      ]
    },
    {
      "cell_type": "code",
      "source": [
        "# use this if you get SSL error on data download\n",
        "import ssl\n",
        "ssl._create_default_https_context = ssl._create_unverified_context"
      ],
      "metadata": {
        "id": "SUUs7tG2f1nk"
      },
      "execution_count": 126,
      "outputs": []
    },
    {
      "cell_type": "markdown",
      "metadata": {
        "id": "4szUs9NdcMrh"
      },
      "source": [
        "# **Setup Galaxy10**\n",
        "\n",
        "Code and dataset from https://astronn.readthedocs.io/en/latest/galaxy10.html"
      ]
    },
    {
      "cell_type": "code",
      "execution_count": 127,
      "metadata": {
        "id": "EpmnnQsIZ2IO"
      },
      "outputs": [],
      "source": [
        "# ---------------------------------------------------------#\n",
        "#   astroNN.datasets.galaxy10: galaxy10\n",
        "# ---------------------------------------------------------#\n",
        "\n",
        "import os\n",
        "import urllib.request\n",
        "\n",
        "import h5py\n",
        "import numpy as np\n",
        "\n",
        "from astroNN.config import astroNN_CACHE_DIR\n",
        "from astroNN.shared.downloader_tools import TqdmUpTo\n",
        "from astroNN.shared.downloader_tools import sha256_checksum\n",
        "\n",
        "Galaxy10Class = {0: \"Disk, Face-on, No Spiral\",\n",
        "                 1: \"Smooth, Completely round\",\n",
        "                 2: \"Smooth, in-between round\",\n",
        "                 3: \"Smooth, Cigar shaped\",\n",
        "                 4: \"Disk, Edge-on, Rounded Bulge\",\n",
        "                 5: \"Disk, Edge-on, Boxy Bulge\",\n",
        "                 6: \"Disk, Edge-on, No Bulge\",\n",
        "                 7: \"Disk, Face-on, Tight Spiral\",\n",
        "                 8: \"Disk, Face-on, Medium Spiral\",\n",
        "                 9: \"Disk, Face-on, Loose Spiral\"}\n",
        "\n",
        "_G10_ORIGIN = 'http://astro.utoronto.ca/~bovy/Galaxy10/'\n",
        "\n",
        "\n",
        "def load_data(flag=None):\n",
        "    \"\"\"\n",
        "    NAME:\n",
        "        load_data\n",
        "    PURPOSE:\n",
        "        load_data galaxy10 data\n",
        "    INPUT:\n",
        "        None\n",
        "    OUTPUT:\n",
        "        x (ndarray): An array of images\n",
        "        y (ndarray): An array of answer\n",
        "    HISTORY:\n",
        "        2018-Jan-22 - Written - Henry Leung (University of Toronto)\n",
        "    \"\"\"\n",
        "\n",
        "    filename = 'Galaxy10.h5'\n",
        "\n",
        "    complete_url = _G10_ORIGIN + filename\n",
        "\n",
        "    datadir = os.path.join(astroNN_CACHE_DIR, 'datasets')\n",
        "    file_hash = '969A6B1CEFCC36E09FFFA86FEBD2F699A4AA19B837BA0427F01B0BC6DED458AF'  # SHA256\n",
        "\n",
        "    # Notice python expect sha256 in lowercase\n",
        "\n",
        "    if not os.path.exists(datadir):\n",
        "        os.makedirs(datadir)\n",
        "    fullfilename = os.path.join(datadir, filename)\n",
        "\n",
        "    # Check if files exists\n",
        "    if os.path.isfile(fullfilename) and flag is None:\n",
        "        checksum = sha256_checksum(fullfilename)\n",
        "        if checksum != file_hash.lower():\n",
        "            print('File corruption detected, astroNN attempting to download again')\n",
        "            load_data(flag=1)\n",
        "        else:\n",
        "            print(fullfilename + ' was found!')\n",
        "    elif not os.path.isfile(fullfilename) or flag == 1:\n",
        "        with TqdmUpTo(unit='B', unit_scale=True, miniters=1, desc=complete_url.split('/')[-1]) as t:\n",
        "            urllib.request.urlretrieve(complete_url, fullfilename, reporthook=t.update_to)\n",
        "            print(f'Downloaded Galaxy10 successfully to {fullfilename}')\n",
        "            checksum = sha256_checksum(fullfilename)\n",
        "            if checksum != file_hash.lower():\n",
        "                load_data(flag=1)\n",
        "\n",
        "    with h5py.File(fullfilename, 'r') as F:\n",
        "        x = np.array(F['images'])\n",
        "        y = np.array(F['ans'])\n",
        "\n",
        "    return x, y\n",
        "\n",
        "\n",
        "def galaxy10cls_lookup(class_num):\n",
        "    \"\"\"\n",
        "    NAME:\n",
        "        galaxy10cls_lookup\n",
        "    PURPOSE:\n",
        "        look up class name for Galaxy10\n",
        "    INPUT:\n",
        "        class_num (int): An integer 0-9\n",
        "    OUTPUT:\n",
        "        (string): Name of the class\n",
        "    HISTORY:\n",
        "        2018-Feb-07 - Written - Henry Leung (University of Toronto)\n",
        "    \"\"\"\n",
        "    if isinstance(class_num, list) or isinstance(class_num, np.ndarray):\n",
        "        class_num = np.argmax(class_num)\n",
        "    if 0 > class_num or 9 < class_num:\n",
        "        raise ValueError(f'Galaxy10 only has 10 classes, you entered {class_num}')\n",
        "    return Galaxy10Class[class_num]\n",
        "\n",
        "\n",
        "def galaxy10_confusion(confusion_mat):\n",
        "    \"\"\"\n",
        "    NAME:\n",
        "        galaxy10_confusion\n",
        "    PURPOSE:\n",
        "        to plot confusion matrix\n",
        "    INPUT:\n",
        "        confusion_mat (ndarray): An integer 0-9\n",
        "    OUTPUT:\n",
        "        (string): Name of the class\n",
        "    HISTORY:\n",
        "        2018-Feb-11 - Written - Henry Leung (University of Toronto)\n",
        "    \"\"\"\n",
        "    import pylab as plt\n",
        "\n",
        "    conf_arr = confusion_mat.astype(int)\n",
        "\n",
        "    norm_conf = []\n",
        "    a = np.max(conf_arr)\n",
        "    for i in conf_arr:\n",
        "        tmp_arr = []\n",
        "        for j in i:\n",
        "            tmp_arr.append(float(j) / float(a))\n",
        "        norm_conf.append(tmp_arr)\n",
        "\n",
        "    fig, ax = plt.subplots(1, figsize=(10, 10.5), dpi=100)\n",
        "    fig.suptitle(\"Confusion Matrix for Galaxy10 trained by astroNN\", fontsize=18)\n",
        "    ax.set_aspect(1)\n",
        "    ax.imshow(np.array(norm_conf), cmap=plt.get_cmap('Blues'), interpolation='nearest')\n",
        "\n",
        "    width, height = conf_arr.shape\n",
        "\n",
        "    for x in range(width):\n",
        "        for y in range(height):\n",
        "            ax.annotate(str(conf_arr[x][y]), xy=(y, x),\n",
        "                        horizontalalignment='center',\n",
        "                        verticalalignment='center')\n",
        "\n",
        "    alphabet = '0123456789'\n",
        "    plt.xticks(range(width), alphabet[:width], fontsize=20)\n",
        "    plt.yticks(range(height), alphabet[:height], fontsize=20)\n",
        "    ax.set_ylabel('Prediction class by astroNN', fontsize=18)\n",
        "    ax.set_xlabel('True class', fontsize=18)\n",
        "    fig.tight_layout(rect=[0, 0.00, 0.8, 0.96])\n",
        "    fig.show()\n",
        "\n",
        "    return None\n",
        "\n",
        "\n",
        "#----------------------------------------#\n",
        "#----------------------------------------#\n",
        "#----------------------------------------#"
      ]
    },
    {
      "cell_type": "markdown",
      "metadata": {
        "id": "6Omdxb-8ce8G"
      },
      "source": [
        "# **Load images, labels**"
      ]
    },
    {
      "cell_type": "code",
      "execution_count": 128,
      "metadata": {
        "colab": {
          "base_uri": "https://localhost:8080/"
        },
        "id": "ygYgN22aZ6cV",
        "outputId": "70a036a2-9e0b-40de-fc3e-7e48d2cc9de8"
      },
      "outputs": [
        {
          "output_type": "stream",
          "name": "stdout",
          "text": [
            "/root/.astroNN/datasets/Galaxy10.h5 was found!\n",
            "l shape before = (21785,)\n",
            "[2 2 4 ... 2 9 2]\n"
          ]
        }
      ],
      "source": [
        "images, labels = load_data()\n",
        "print('l shape before =', labels.shape)\n",
        "print(labels)"
      ]
    },
    {
      "cell_type": "code",
      "execution_count": 129,
      "metadata": {
        "colab": {
          "base_uri": "https://localhost:8080/"
        },
        "id": "bcUCv_NUZ8mt",
        "outputId": "0fa590e6-67dd-4916-90d9-3c99d9454424"
      },
      "outputs": [
        {
          "output_type": "stream",
          "name": "stdout",
          "text": [
            "label shape before = (21785,)\n",
            "l shape after = (21785, 10)\n",
            "i shape before = (21785, 69, 69, 3)\n",
            "i shape after = (21785, 69, 69, 3)\n"
          ]
        }
      ],
      "source": [
        "labels = labels.astype(np.float32)\n",
        "print('label shape before =', labels.shape)\n",
        "labels = tf.keras.utils.to_categorical(labels)\n",
        "print('l shape after =', labels.shape)\n",
        "images = images.astype(np.float32)\n",
        "print('i shape before =', images.shape)\n",
        "images = images/255\n",
        "print('i shape after =', images.shape)"
      ]
    },
    {
      "cell_type": "markdown",
      "metadata": {
        "id": "ceOEr7AvclKD"
      },
      "source": [
        "# **Condense Classes**\n",
        "The galaxy10 playlist natively has 10 classes but we can condense this into 3 or 4"
      ]
    },
    {
      "cell_type": "code",
      "execution_count": 130,
      "metadata": {
        "colab": {
          "base_uri": "https://localhost:8080/"
        },
        "id": "PCTCIxN8avrI",
        "outputId": "bd396e33-5d69-4cdd-99e8-c7f3d6e86a52"
      },
      "outputs": [
        {
          "output_type": "stream",
          "name": "stdout",
          "text": [
            "[[1. 0. 0. 0.]\n",
            " [1. 0. 0. 0.]\n",
            " [0. 1. 0. 0.]\n",
            " [1. 0. 0. 0.]\n",
            " [0. 1. 0. 0.]\n",
            " [1. 0. 0. 0.]\n",
            " [1. 0. 0. 0.]\n",
            " [1. 0. 0. 0.]\n",
            " [1. 0. 0. 0.]\n",
            " [0. 0. 1. 0.]]\n",
            "(21785, 10) (21785, 4)\n"
          ]
        }
      ],
      "source": [
        "if num_class == 4:\n",
        "  #This takes the old labels with 10 classes and turns it into 4\n",
        "  elliptical = [1,2,3]\n",
        "  lenticular = [4,5,6]\n",
        "  spiral = [7,8,9]\n",
        "  irregular = [0]\n",
        "  name = [0,1,2,3]\n",
        "\n",
        "  def change_class4(lable):\n",
        "      label_num_pos = int(np.where(lable==1)[0])\n",
        "      if label_num_pos in elliptical:\n",
        "          new_name = np.array([1.,0.,0.,0.])\n",
        "      if label_num_pos in lenticular:\n",
        "          new_name = np.array([0.,1.,0.,0.])\n",
        "      if label_num_pos in spiral:\n",
        "          new_name = np.array([0.,0.,1.,0.])\n",
        "      if label_num_pos in irregular:\n",
        "          new_name = np.array([0.,0.,0.,1.])\n",
        "      return new_name\n",
        "  new_labels = np.array([change_class4(labels[i]) for i in range(len(labels))])\n",
        "\n",
        "elif num_class == 3:\n",
        "  #This takes the old labels with 10 classes and turns it into 3\n",
        "  elliptical = [1,2,3]\n",
        "  lenticular = [4,5,6]\n",
        "  spiral = [7,8,9,0]\n",
        "  name = [0,1,2]\n",
        "\n",
        "  def change_class3(lable):\n",
        "      label_num_pos = int(np.where(lable==1)[0])\n",
        "      if label_num_pos in elliptical:\n",
        "          new_name = np.array([1.,0.,0.])\n",
        "      if label_num_pos in lenticular:\n",
        "          new_name = np.array([0.,1.,0.])\n",
        "      if label_num_pos in spiral:\n",
        "          new_name = np.array([0.,0.,1.])\n",
        "      return new_name\n",
        "\n",
        "  new_labels = np.array([change_class3(labels[i]) for i in range(len(labels))])\n",
        "\n",
        "print(new_labels[:10])\n",
        "print(labels.shape, new_labels.shape)"
      ]
    },
    {
      "cell_type": "code",
      "source": [
        "# only take one layer (we can think which one is best, i can just run all 3), first one is g band i think\n",
        "# only select one filter\n",
        "images = images[:,:,:,0]\n",
        "print(images.shape)\n"
      ],
      "metadata": {
        "colab": {
          "base_uri": "https://localhost:8080/"
        },
        "id": "8C_WCsqQ8hiy",
        "outputId": "5c0140ae-d6b4-4a6f-aa5d-d86dd4f4f5ef"
      },
      "execution_count": 131,
      "outputs": [
        {
          "output_type": "stream",
          "name": "stdout",
          "text": [
            "(21785, 69, 69)\n"
          ]
        }
      ]
    },
    {
      "cell_type": "markdown",
      "metadata": {
        "id": "UJsdgYNJcp-1"
      },
      "source": [
        "# **Number of images in each label**"
      ]
    },
    {
      "cell_type": "code",
      "execution_count": 132,
      "metadata": {
        "colab": {
          "base_uri": "https://localhost:8080/"
        },
        "id": "RFDeee1xaxp_",
        "outputId": "9da6498e-c035-4076-b09c-3d90fde94cd3"
      },
      "outputs": [
        {
          "output_type": "stream",
          "name": "stdout",
          "text": [
            "[13638, 2140, 2546, 3461]\n"
          ]
        }
      ],
      "source": [
        "#This shows the amount in each label\n",
        "label_categor_nums = [int(np.where(new_labels[i]==1)[0]) for i in range(len(new_labels))]\n",
        "#print(label_categor_nums[:15])\n",
        "\n",
        "name_occur = [label_categor_nums.count(name[i]) for i in range(len(name))]\n",
        "print(name_occur)"
      ]
    },
    {
      "cell_type": "markdown",
      "metadata": {
        "id": "YOP72hhRc07n"
      },
      "source": [
        "# **Data split: train, test**"
      ]
    },
    {
      "cell_type": "code",
      "execution_count": 133,
      "metadata": {
        "colab": {
          "base_uri": "https://localhost:8080/"
        },
        "id": "7TNTQ_-LayD5",
        "outputId": "049ee118-4d2f-4fd9-d214-d390772851a7"
      },
      "outputs": [
        {
          "output_type": "stream",
          "name": "stdout",
          "text": [
            "(18517, 69, 69)\n",
            "(18517, 4)\n"
          ]
        }
      ],
      "source": [
        "X_train, X_test, y_train, y_test = train_test_split(images, new_labels, test_size = test_split)\n",
        "print(X_train.shape)\n",
        "print(y_train.shape)"
      ]
    },
    {
      "cell_type": "markdown",
      "metadata": {
        "id": "PhZErwZmc68l"
      },
      "source": [
        "# **CNN Models**"
      ]
    },
    {
      "cell_type": "code",
      "source": [
        "def C1(input_shape, unique_labels=num_class, dropout_rate=0.5):\n",
        "    '''\n",
        "    Defines the 2D Convolutional Neural Network (CNN) called C1\n",
        "    Parameters:    \n",
        "    \n",
        "        input_shape (arr): input shape for network\n",
        "        unique_labels (int): number unique labels \n",
        "        dropout_rate (float): dropout rate as fraction\n",
        "\n",
        "    Returns:\n",
        "        \n",
        "        model (keras model class): CNN to train\n",
        "    '''\n",
        "\n",
        "    model = Sequential()\n",
        "\n",
        "    model.add(Conv2D(filters=32, input_shape=input_shape, activation='relu', kernel_size=(5,5)))\n",
        "    model.add(Conv2D(filters=64, input_shape=input_shape, activation='relu', kernel_size=(5,5)))\n",
        "    model.add(MaxPool2D(pool_size=(2, 2)))\n",
        "\n",
        "    model.add(Flatten())\n",
        "    model.add(Dropout(dropout_rate))\n",
        "    model.add(Dense(256, activation='relu'))\n",
        "    model.add(Dense(unique_labels, activation='softmax')) \n",
        "\n",
        "    return model"
      ],
      "metadata": {
        "id": "ndCEcEONZNBn"
      },
      "execution_count": 134,
      "outputs": []
    },
    {
      "cell_type": "code",
      "source": [
        "def C2(input_shape, unique_labels=num_class, dropout_rate=0.5):\n",
        "    '''\n",
        "    Defines the 2D Convolutional Neural Network (CNN) called C2\n",
        "    Parameters:    \n",
        "    \n",
        "        input_shape (arr): input shape for network\n",
        "        unique_labels (int): number unique labels \n",
        "        dropout_rate (float): dropout rate as fraction\n",
        "\n",
        "    Returns:\n",
        "        \n",
        "        model (keras model class): CNN to train\n",
        "    '''\n",
        "    \n",
        "    model = Sequential()\n",
        "\n",
        "    model.add(Conv2D(filters=32, input_shape=input_shape, activation='relu', kernel_size=(7,7)))\n",
        "    model.add(BatchNormalization())\n",
        "    model.add(MaxPool2D(pool_size=(2,2)))\n",
        "\n",
        "    model.add(Conv2D(filters=64, input_shape=input_shape, activation='relu', kernel_size=(5,5)))\n",
        "    model.add(Conv2D(filters=64, input_shape=input_shape, activation='relu', kernel_size=(5,5)))\n",
        "    model.add(BatchNormalization())\n",
        "    model.add(MaxPool2D(pool_size=(2,2)))\n",
        "\n",
        "    model.add(Conv2D(filters=128, input_shape=input_shape, activation='relu', kernel_size=(3,3)))\n",
        "    model.add(BatchNormalization())\n",
        "    model.add(MaxPool2D(pool_size=(2,2)))\n",
        "\n",
        "    model.add(Flatten())\n",
        "    model.add(Dropout(dropout_rate))\n",
        "    model.add(Dense(256, activation='relu'))\n",
        "    model.add(Dense(256, activation='relu'))\n",
        "\n",
        "    model.add(Dense(unique_labels, activation='softmax')) \n",
        "\n",
        "    return model"
      ],
      "metadata": {
        "id": "Xh7l58QoZM0x"
      },
      "execution_count": 135,
      "outputs": []
    },
    {
      "cell_type": "markdown",
      "metadata": {
        "id": "gR9rpirxc-jW"
      },
      "source": [
        "# **Begin Training**"
      ]
    },
    {
      "cell_type": "code",
      "source": [
        "# define hyperparameters of training\n",
        "if run_C1:\n",
        "  n_epochs = 13\n",
        "  # can't find learning rate mentioned so I'm leaving it as default for now\n",
        "  \n",
        "  ##opt = keras.optimizers.Adadelta(learning_rate=2*pow(10,-4))\n",
        "  ### using adam stuff i can't get addelta to work, might be lr\n",
        "  lr = 2*pow(10,-4)\n",
        "  opt = keras.optimizers.Adam(learning_rate=lr) # try just using this learning rate\n",
        "  \n",
        "  c1_model = C1(input_shape)\n",
        "\n",
        "  # show model architecture\n",
        "  c1_model.summary()\n",
        "\n",
        "  c1_model.compile(loss='categorical_crossentropy', optimizer=opt, metrics=['accuracy'])\n",
        "\n",
        "  if num_class == 3:\n",
        "    c1_3_classifier = c1_model.fit(X_train, y_train, epochs=n_epochs, validation_split=valid_split)  \n",
        "  elif num_class == 4:\n",
        "    c1_4_classifier = c1_model.fit(X_train, y_train, epochs=n_epochs, validation_split=valid_split)  "
      ],
      "metadata": {
        "colab": {
          "base_uri": "https://localhost:8080/"
        },
        "id": "CgVRZfzBaVDG",
        "outputId": "ed400875-782f-4774-d952-ef58496576d1"
      },
      "execution_count": 136,
      "outputs": [
        {
          "output_type": "stream",
          "name": "stdout",
          "text": [
            "Model: \"sequential_10\"\n",
            "_________________________________________________________________\n",
            " Layer (type)                Output Shape              Param #   \n",
            "=================================================================\n",
            " conv2d_26 (Conv2D)          (None, 65, 65, 32)        832       \n",
            "                                                                 \n",
            " conv2d_27 (Conv2D)          (None, 61, 61, 64)        51264     \n",
            "                                                                 \n",
            " max_pooling2d_16 (MaxPoolin  (None, 30, 30, 64)       0         \n",
            " g2D)                                                            \n",
            "                                                                 \n",
            " flatten_10 (Flatten)        (None, 57600)             0         \n",
            "                                                                 \n",
            " dropout_10 (Dropout)        (None, 57600)             0         \n",
            "                                                                 \n",
            " dense_23 (Dense)            (None, 256)               14745856  \n",
            "                                                                 \n",
            " dense_24 (Dense)            (None, 4)                 1028      \n",
            "                                                                 \n",
            "=================================================================\n",
            "Total params: 14,798,980\n",
            "Trainable params: 14,798,980\n",
            "Non-trainable params: 0\n",
            "_________________________________________________________________\n",
            "Epoch 1/13\n",
            "492/492 [==============================] - 9s 17ms/step - loss: 0.7657 - accuracy: 0.6999 - val_loss: 0.6909 - val_accuracy: 0.7369\n",
            "Epoch 2/13\n",
            "492/492 [==============================] - 8s 16ms/step - loss: 0.5940 - accuracy: 0.7611 - val_loss: 0.5895 - val_accuracy: 0.7721\n",
            "Epoch 3/13\n",
            "492/492 [==============================] - 8s 16ms/step - loss: 0.5055 - accuracy: 0.8014 - val_loss: 0.5342 - val_accuracy: 0.7937\n",
            "Epoch 4/13\n",
            "492/492 [==============================] - 8s 16ms/step - loss: 0.4605 - accuracy: 0.8214 - val_loss: 0.5357 - val_accuracy: 0.7937\n",
            "Epoch 5/13\n",
            "492/492 [==============================] - 8s 16ms/step - loss: 0.4155 - accuracy: 0.8407 - val_loss: 0.5000 - val_accuracy: 0.8139\n",
            "Epoch 6/13\n",
            "492/492 [==============================] - 8s 16ms/step - loss: 0.3823 - accuracy: 0.8544 - val_loss: 0.5180 - val_accuracy: 0.8092\n",
            "Epoch 7/13\n",
            "492/492 [==============================] - 8s 16ms/step - loss: 0.3555 - accuracy: 0.8645 - val_loss: 0.5097 - val_accuracy: 0.8161\n",
            "Epoch 8/13\n",
            "492/492 [==============================] - 8s 16ms/step - loss: 0.3240 - accuracy: 0.8764 - val_loss: 0.5264 - val_accuracy: 0.8103\n",
            "Epoch 9/13\n",
            "492/492 [==============================] - 8s 16ms/step - loss: 0.2925 - accuracy: 0.8887 - val_loss: 0.5264 - val_accuracy: 0.8096\n",
            "Epoch 10/13\n",
            "492/492 [==============================] - 8s 16ms/step - loss: 0.2692 - accuracy: 0.8980 - val_loss: 0.5298 - val_accuracy: 0.8117\n",
            "Epoch 11/13\n",
            "492/492 [==============================] - 8s 16ms/step - loss: 0.2431 - accuracy: 0.9102 - val_loss: 0.5431 - val_accuracy: 0.8063\n",
            "Epoch 12/13\n",
            "492/492 [==============================] - 8s 16ms/step - loss: 0.2190 - accuracy: 0.9192 - val_loss: 0.5586 - val_accuracy: 0.8125\n",
            "Epoch 13/13\n",
            "492/492 [==============================] - 8s 16ms/step - loss: 0.1923 - accuracy: 0.9313 - val_loss: 0.6093 - val_accuracy: 0.8089\n"
          ]
        }
      ]
    },
    {
      "cell_type": "markdown",
      "source": [
        "c1 still not learning well, need to look into it"
      ],
      "metadata": {
        "id": "EjYTtX2tgxGX"
      }
    },
    {
      "cell_type": "code",
      "source": [
        "if run_C2:\n",
        "  n_epochs = 20\n",
        "  lr = 2*pow(10,-4)\n",
        "  opt = keras.optimizers.Adam(learning_rate=lr)\n",
        "  c2_model = C2(input_shape)\n",
        "  # show model architecture\n",
        "  c2_model.summary()\n",
        "  c2_model.compile(loss='categorical_crossentropy', optimizer=opt, metrics=['accuracy'])\n",
        "\n",
        "  if num_class == 3:\n",
        "    c2_3_classifier = c2_model.fit(X_train, y_train, epochs=n_epochs, validation_split=valid_split)  \n",
        "  elif num_class == 4:\n",
        "    c2_4_classifier = c2_model.fit(X_train, y_train, epochs=n_epochs, validation_split=valid_split)  "
      ],
      "metadata": {
        "colab": {
          "base_uri": "https://localhost:8080/"
        },
        "id": "MqFMcQ4aaU-a",
        "outputId": "0fa6fee1-b231-4b03-ae96-608beb2a5a07"
      },
      "execution_count": 137,
      "outputs": [
        {
          "output_type": "stream",
          "name": "stdout",
          "text": [
            "Model: \"sequential_11\"\n",
            "_________________________________________________________________\n",
            " Layer (type)                Output Shape              Param #   \n",
            "=================================================================\n",
            " conv2d_28 (Conv2D)          (None, 63, 63, 32)        1600      \n",
            "                                                                 \n",
            " batch_normalization_9 (Batc  (None, 63, 63, 32)       128       \n",
            " hNormalization)                                                 \n",
            "                                                                 \n",
            " max_pooling2d_17 (MaxPoolin  (None, 31, 31, 32)       0         \n",
            " g2D)                                                            \n",
            "                                                                 \n",
            " conv2d_29 (Conv2D)          (None, 27, 27, 64)        51264     \n",
            "                                                                 \n",
            " conv2d_30 (Conv2D)          (None, 23, 23, 64)        102464    \n",
            "                                                                 \n",
            " batch_normalization_10 (Bat  (None, 23, 23, 64)       256       \n",
            " chNormalization)                                                \n",
            "                                                                 \n",
            " max_pooling2d_18 (MaxPoolin  (None, 11, 11, 64)       0         \n",
            " g2D)                                                            \n",
            "                                                                 \n",
            " conv2d_31 (Conv2D)          (None, 9, 9, 128)         73856     \n",
            "                                                                 \n",
            " batch_normalization_11 (Bat  (None, 9, 9, 128)        512       \n",
            " chNormalization)                                                \n",
            "                                                                 \n",
            " max_pooling2d_19 (MaxPoolin  (None, 4, 4, 128)        0         \n",
            " g2D)                                                            \n",
            "                                                                 \n",
            " flatten_11 (Flatten)        (None, 2048)              0         \n",
            "                                                                 \n",
            " dropout_11 (Dropout)        (None, 2048)              0         \n",
            "                                                                 \n",
            " dense_25 (Dense)            (None, 256)               524544    \n",
            "                                                                 \n",
            " dense_26 (Dense)            (None, 256)               65792     \n",
            "                                                                 \n",
            " dense_27 (Dense)            (None, 4)                 1028      \n",
            "                                                                 \n",
            "=================================================================\n",
            "Total params: 821,444\n",
            "Trainable params: 820,996\n",
            "Non-trainable params: 448\n",
            "_________________________________________________________________\n",
            "Epoch 1/20\n",
            "492/492 [==============================] - 6s 10ms/step - loss: 0.7790 - accuracy: 0.6928 - val_loss: 1.4289 - val_accuracy: 0.4273\n",
            "Epoch 2/20\n",
            "492/492 [==============================] - 5s 10ms/step - loss: 0.6369 - accuracy: 0.7401 - val_loss: 0.8317 - val_accuracy: 0.7163\n",
            "Epoch 3/20\n",
            "492/492 [==============================] - 5s 10ms/step - loss: 0.5679 - accuracy: 0.7746 - val_loss: 0.5708 - val_accuracy: 0.7840\n",
            "Epoch 4/20\n",
            "492/492 [==============================] - 5s 10ms/step - loss: 0.5177 - accuracy: 0.7964 - val_loss: 0.5367 - val_accuracy: 0.7916\n",
            "Epoch 5/20\n",
            "492/492 [==============================] - 5s 10ms/step - loss: 0.4855 - accuracy: 0.8081 - val_loss: 0.5338 - val_accuracy: 0.7876\n",
            "Epoch 6/20\n",
            "492/492 [==============================] - 5s 10ms/step - loss: 0.4646 - accuracy: 0.8171 - val_loss: 0.4794 - val_accuracy: 0.8125\n",
            "Epoch 7/20\n",
            "492/492 [==============================] - 5s 10ms/step - loss: 0.4421 - accuracy: 0.8279 - val_loss: 0.6818 - val_accuracy: 0.7700\n",
            "Epoch 8/20\n",
            "492/492 [==============================] - 5s 10ms/step - loss: 0.4285 - accuracy: 0.8336 - val_loss: 0.6106 - val_accuracy: 0.7639\n",
            "Epoch 9/20\n",
            "492/492 [==============================] - 5s 10ms/step - loss: 0.4196 - accuracy: 0.8401 - val_loss: 0.5182 - val_accuracy: 0.8045\n",
            "Epoch 10/20\n",
            "492/492 [==============================] - 5s 10ms/step - loss: 0.3991 - accuracy: 0.8455 - val_loss: 0.4746 - val_accuracy: 0.8236\n",
            "Epoch 11/20\n",
            "492/492 [==============================] - 5s 10ms/step - loss: 0.3881 - accuracy: 0.8513 - val_loss: 0.4629 - val_accuracy: 0.8319\n",
            "Epoch 12/20\n",
            "492/492 [==============================] - 5s 10ms/step - loss: 0.3712 - accuracy: 0.8568 - val_loss: 0.4835 - val_accuracy: 0.8164\n",
            "Epoch 13/20\n",
            "492/492 [==============================] - 5s 10ms/step - loss: 0.3622 - accuracy: 0.8624 - val_loss: 0.4510 - val_accuracy: 0.8341\n",
            "Epoch 14/20\n",
            "492/492 [==============================] - 5s 10ms/step - loss: 0.3404 - accuracy: 0.8698 - val_loss: 0.4576 - val_accuracy: 0.8369\n",
            "Epoch 15/20\n",
            "492/492 [==============================] - 5s 10ms/step - loss: 0.3264 - accuracy: 0.8755 - val_loss: 0.4713 - val_accuracy: 0.8305\n",
            "Epoch 16/20\n",
            "492/492 [==============================] - 5s 10ms/step - loss: 0.3164 - accuracy: 0.8790 - val_loss: 0.5162 - val_accuracy: 0.8265\n",
            "Epoch 17/20\n",
            "492/492 [==============================] - 5s 10ms/step - loss: 0.3007 - accuracy: 0.8876 - val_loss: 0.4895 - val_accuracy: 0.8315\n",
            "Epoch 18/20\n",
            "492/492 [==============================] - 5s 10ms/step - loss: 0.2848 - accuracy: 0.8914 - val_loss: 0.4940 - val_accuracy: 0.8276\n",
            "Epoch 19/20\n",
            "492/492 [==============================] - 5s 10ms/step - loss: 0.2729 - accuracy: 0.8982 - val_loss: 0.4947 - val_accuracy: 0.8362\n",
            "Epoch 20/20\n",
            "492/492 [==============================] - 5s 10ms/step - loss: 0.2585 - accuracy: 0.9023 - val_loss: 0.4666 - val_accuracy: 0.8452\n"
          ]
        }
      ]
    },
    {
      "cell_type": "code",
      "source": [
        "#^ make above a function to be able to run in loop for 3/4 way too (a run all vs just one mode)"
      ],
      "metadata": {
        "id": "FlD0Szy2fBjv"
      },
      "execution_count": 138,
      "outputs": []
    },
    {
      "cell_type": "markdown",
      "metadata": {
        "id": "Z-AFK9r9bnU3"
      },
      "source": [
        "# **Save the model (optional)**"
      ]
    },
    {
      "cell_type": "code",
      "execution_count": 139,
      "metadata": {
        "id": "9T4IeWwwa_tV"
      },
      "outputs": [],
      "source": [
        "# import pandas\n",
        "# from sklearn import model_selection\n",
        "# from sklearn.linear_model import LogisticRegression\n",
        "# import pickle\n",
        "# # save the model to disk\n",
        "# keras_c2_galaxy10_4cl = 'keras_c2_galaxy10_4cl.sav'\n",
        "# pickle.dump(model, open(keras_c2_galaxy10_4cl, 'wb'))"
      ]
    },
    {
      "cell_type": "markdown",
      "metadata": {
        "id": "l0WvKUU9bsWz"
      },
      "source": [
        "# **Plot Training & Validation Loss, Accuracy**\n",
        "Trying to get a plot that looks like yours"
      ]
    },
    {
      "cell_type": "code",
      "source": [
        "# plot accuracy/loss versus epoch\n",
        "fig, axs = plt.subplots(2, 2, sharex=True, figsize=(15, 10))\n",
        "axs[0, 0].plot(c1_3_classifier.history['accuracy'], '--', color='darkred')\n",
        "axs[0, 0].plot(c2_3_classifier.history['accuracy'], '--', color='gold')\n",
        "axs[0, 0].plot(c1_3_classifier.history['val_accuracy'], label='C1', color='darkred')\n",
        "axs[0, 0].plot(c2_3_classifier.history['val_accuracy'], label='C2', color='gold')\n",
        "#axs[0, 0].set_title('Axis [0, 0]')\n",
        "axs[0, 0].set_ylabel('Accuracy')\n",
        "axs[0, 0].legend()\n",
        "axs[0, 1].plot(c1_3_classifier.history['loss'], '--', color='darkred')\n",
        "axs[0, 1].plot(c2_3_classifier.history['loss'], '--', color='gold')\n",
        "axs[0, 1].plot(c1_3_classifier.history['val_loss'], label='C1', color='darkred')\n",
        "axs[0, 1].plot(c2_3_classifier.history['val_loss'], label='C2', color='gold')\n",
        "#axs[0, 1].set_title('Axis [0, 1]')\n",
        "axs[0, 1].set_ylabel('Loss')\n",
        "axs[1, 0].plot(c1_4_classifier.history['accuracy'], '--', color='darkred')\n",
        "axs[1, 0].plot(c2_4_classifier.history['accuracy'], '--', color='gold')\n",
        "axs[1, 0].plot(c1_4_classifier.history['val_accuracy'], label='C1', color='darkred')\n",
        "axs[1, 0].plot(c2_4_classifier.history['val_accuracy'], label='C2', color='gold')\n",
        "#axs[1, 0].set_title('Axis [1, 0]')\n",
        "axs[1, 0].set_xlabel('Epoch')\n",
        "axs[1, 0].set_ylabel('Accuracy')\n",
        "axs[1, 1].plot(c1_4_classifier.history['loss'], '--', color='darkred')\n",
        "axs[1, 1].plot(c2_4_classifier.history['loss'], '--', color='gold')\n",
        "axs[1, 1].plot(c1_4_classifier.history['val_loss'], label='C1', color='darkred')\n",
        "axs[1, 1].plot(c2_4_classifier.history['val_loss'], label='C2', color='gold')\n",
        "#axs[1, 1].set_title('Axis [1, 1]')\n",
        "axs[1, 1].set_xlabel('Epoch')\n",
        "axs[1, 1].set_ylabel('Loss')\n",
        "fig.set_facecolor(\"white\")"
      ],
      "metadata": {
        "colab": {
          "base_uri": "https://localhost:8080/",
          "height": 606
        },
        "id": "zgViRkjac3fP",
        "outputId": "0219dbe8-4ca9-41cb-fe58-2c1cadde83bd"
      },
      "execution_count": 140,
      "outputs": [
        {
          "output_type": "display_data",
          "data": {
            "text/plain": [
              "<Figure size 1080x720 with 4 Axes>"
            ],
            "image/png": "[encoded data removed]"
          },
          "metadata": {}
        }
      ]
    },
    {
      "cell_type": "markdown",
      "source": [
        "ik this colour is ugly but I'm just trying to make it resemble what they have"
      ],
      "metadata": {
        "id": "FnAkYbwwihZ5"
      }
    },
    {
      "cell_type": "code",
      "execution_count": 141,
      "metadata": {
        "colab": {
          "base_uri": "https://localhost:8080/",
          "height": 134
        },
        "id": "ULxF_vxGbH9z",
        "outputId": "47605d71-fa88-4100-d4bd-e08c6aed8fad"
      },
      "outputs": [
        {
          "output_type": "error",
          "ename": "SyntaxError",
          "evalue": "ignored",
          "traceback": [
            "\u001b[0;36m  File \u001b[0;32m\"<ipython-input-141-189e2b1e4c9c>\"\u001b[0;36m, line \u001b[0;32m8\u001b[0m\n\u001b[0;31m    label='Training  Accuracy')\u001b[0m\n\u001b[0m                              ^\u001b[0m\n\u001b[0;31mSyntaxError\u001b[0m\u001b[0;31m:\u001b[0m unmatched ')'\n"
          ]
        }
      ],
      "source": [
        "plt.plot(model.history.history['loss'],color='b',\n",
        "label='Training Loss')\n",
        "plt.plot(model.history.history['val_loss'],color='r',\n",
        "label='Validation Loss')\n",
        "plt.legend()\n",
        "plt.show()\n",
        "\n",
        "label='Training  Accuracy')\n",
        "plt.plot(model.history.history['val_accuracy'],color='r',\n",
        "label='Validation Accuracy')\n",
        "plt.legend()\n",
        "plt.show()"
      ]
    },
    {
      "cell_type": "markdown",
      "metadata": {
        "id": "jY_mWLuCb6kn"
      },
      "source": [
        "# **Confusion Matrix**\n",
        "We are just interested in replicated C2 4-way adn 3-way classification for reproducing confusion matricies, other ones aren't in paper I think"
      ]
    },
    {
      "cell_type": "code",
      "execution_count": null,
      "metadata": {
        "id": "XSxCFUSDbJ0a"
      },
      "outputs": [],
      "source": [
        "from pylab import rcParams\n",
        "rcParams['figure.figsize'] = 10, 10\n",
        "\n",
        "\n",
        "predictions = model.predict(X_test)\n",
        "predictions = (predictions > 0.5) \n",
        "labels = [\"elliptical\", \"lenticular\", \"spiral\", \"irregular\"]\n",
        "\n",
        "cm = confusion_matrix(y_test.argmax(axis=1), predictions.argmax(axis=1))\n",
        "disp = ConfusionMatrixDisplay(confusion_matrix=cm, display_labels=labels)\n",
        "disp.plot(cmap=plt.cm.Blues)\n",
        "plt.show()"
      ]
    }
  ],
  "metadata": {
    "colab": {
      "provenance": [],
      "machine_shape": "hm"
    },
    "kernelspec": {
      "display_name": "Python 3",
      "name": "python3"
    },
    "language_info": {
      "name": "python"
    },
    "accelerator": "GPU",
    "gpuClass": "standard"
  },
  "nbformat": 4,
  "nbformat_minor": 0
}