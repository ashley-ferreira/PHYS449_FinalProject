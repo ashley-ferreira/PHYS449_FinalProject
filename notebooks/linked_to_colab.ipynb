{
  "cells": [
    {
      "cell_type": "markdown",
      "metadata": {
        "id": "uD-WbU-9Ihlm"
      },
      "source": [
        "This notebook is linked between github and google collab, I can show others how to do this on Sunday"
      ]
    },
    {
      "cell_type": "code",
      "execution_count": null,
      "metadata": {
        "id": "-QgX-pozIhlr"
      },
      "outputs": [],
      "source": [
        "# this is my edit from within colab :) "
      ]
    }
  ],
  "metadata": {
    "language_info": {
      "name": "python"
    },
    "orig_nbformat": 4,
    "colab": {
      "provenance": []
    }
  },
  "nbformat": 4,
  "nbformat_minor": 0
}