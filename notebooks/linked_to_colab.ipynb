{
  "cells": [
    {
      "cell_type": "markdown",
      "metadata": {
        "id": "uD-WbU-9Ihlm"
      },
      "source": [
        "This notebook is linked between github and google collab, I can show others how to do this on Sunday"
      ]
    },
    {
      "cell_type": "code",
      "execution_count": null,
      "metadata": {
        "id": "-QgX-pozIhlr"
      },
      "outputs": [],
      "source": [
        "# this is my edit from within colab :) "
      ]
    },
    {
      "cell_type": "code",
      "source": [
        "# hey"
      ],
      "metadata": {
        "id": "Y1pfOGI8S1LQ"
      },
      "execution_count": null,
      "outputs": []
    },
    {
      "cell_type": "code",
      "source": [
        "# hey its ashley"
      ],
      "metadata": {
        "id": "7x35Xnf7TuUR"
      },
      "execution_count": null,
      "outputs": []
    }
  ],
  "metadata": {
    "colab": {
      "provenance": []
    },
    "kernelspec": {
      "display_name": "base",
      "language": "python",
      "name": "python3"
    },
    "language_info": {
      "name": "python",
      "version": "3.9.7 (default, Sep 16 2021, 16:59:28) [MSC v.1916 64 bit (AMD64)]"
    },
    "orig_nbformat": 4,
    "vscode": {
      "interpreter": {
        "hash": "96cab39cef24231734b3da5073f43289f3ab706a2c6d78f165bf303ab6e9aa90"
      }
    }
  },
  "nbformat": 4,
  "nbformat_minor": 0
}